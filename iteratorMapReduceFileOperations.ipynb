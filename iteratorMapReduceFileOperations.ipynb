{
 "cells": [
  {
   "cell_type": "code",
   "execution_count": 1,
   "id": "100bd913",
   "metadata": {},
   "outputs": [],
   "source": [
    "l = [1,2,3,4,5]"
   ]
  },
  {
   "cell_type": "code",
   "execution_count": 2,
   "id": "e04c1e52",
   "metadata": {},
   "outputs": [
    {
     "name": "stdout",
     "output_type": "stream",
     "text": [
      "1\n",
      "2\n",
      "3\n",
      "4\n",
      "5\n"
     ]
    }
   ],
   "source": [
    "for i in l:\n",
    "    print(i)"
   ]
  },
  {
   "cell_type": "code",
   "execution_count": 3,
   "id": "c0477477",
   "metadata": {},
   "outputs": [
    {
     "ename": "TypeError",
     "evalue": "'list' object is not an iterator",
     "output_type": "error",
     "traceback": [
      "\u001b[0;31m---------------------------------------------------------------------------\u001b[0m",
      "\u001b[0;31mTypeError\u001b[0m                                 Traceback (most recent call last)",
      "Input \u001b[0;32mIn [3]\u001b[0m, in \u001b[0;36m<cell line: 1>\u001b[0;34m()\u001b[0m\n\u001b[0;32m----> 1\u001b[0m \u001b[38;5;28;43mnext\u001b[39;49m\u001b[43m(\u001b[49m\u001b[43ml\u001b[49m\u001b[43m)\u001b[49m\n",
      "\u001b[0;31mTypeError\u001b[0m: 'list' object is not an iterator"
     ]
    }
   ],
   "source": [
    "next(l)"
   ]
  },
  {
   "cell_type": "code",
   "execution_count": 6,
   "id": "b6771dfd",
   "metadata": {},
   "outputs": [],
   "source": [
    "b = iter(l)"
   ]
  },
  {
   "cell_type": "code",
   "execution_count": 7,
   "id": "8d37d664",
   "metadata": {},
   "outputs": [
    {
     "data": {
      "text/plain": [
       "1"
      ]
     },
     "execution_count": 7,
     "metadata": {},
     "output_type": "execute_result"
    }
   ],
   "source": [
    "next(b)"
   ]
  },
  {
   "cell_type": "code",
   "execution_count": 8,
   "id": "81c2732d",
   "metadata": {},
   "outputs": [
    {
     "data": {
      "text/plain": [
       "2"
      ]
     },
     "execution_count": 8,
     "metadata": {},
     "output_type": "execute_result"
    }
   ],
   "source": [
    "next(b)"
   ]
  },
  {
   "cell_type": "code",
   "execution_count": 11,
   "id": "e630e7f1",
   "metadata": {},
   "outputs": [
    {
     "data": {
      "text/plain": [
       "4"
      ]
     },
     "execution_count": 11,
     "metadata": {},
     "output_type": "execute_result"
    }
   ],
   "source": [
    "next(b)"
   ]
  },
  {
   "cell_type": "code",
   "execution_count": 12,
   "id": "99493077",
   "metadata": {},
   "outputs": [
    {
     "data": {
      "text/plain": [
       "5"
      ]
     },
     "execution_count": 12,
     "metadata": {},
     "output_type": "execute_result"
    }
   ],
   "source": [
    "next(b)"
   ]
  },
  {
   "cell_type": "code",
   "execution_count": 13,
   "id": "852a2927",
   "metadata": {},
   "outputs": [
    {
     "ename": "StopIteration",
     "evalue": "",
     "output_type": "error",
     "traceback": [
      "\u001b[0;31m---------------------------------------------------------------------------\u001b[0m",
      "\u001b[0;31mStopIteration\u001b[0m                             Traceback (most recent call last)",
      "Input \u001b[0;32mIn [13]\u001b[0m, in \u001b[0;36m<cell line: 1>\u001b[0;34m()\u001b[0m\n\u001b[0;32m----> 1\u001b[0m \u001b[38;5;28;43mnext\u001b[39;49m\u001b[43m(\u001b[49m\u001b[43mb\u001b[49m\u001b[43m)\u001b[49m\n",
      "\u001b[0;31mStopIteration\u001b[0m: "
     ]
    }
   ],
   "source": [
    "next(b)"
   ]
  },
  {
   "cell_type": "markdown",
   "id": "16c34cf3",
   "metadata": {},
   "source": [
    "# Two terms we are supposed to know 1. iterable 2. iterator"
   ]
  },
  {
   "cell_type": "markdown",
   "id": "f8ab9993",
   "metadata": {},
   "source": [
    "How for loop executes?"
   ]
  },
  {
   "cell_type": "code",
   "execution_count": 14,
   "id": "3615209b",
   "metadata": {},
   "outputs": [
    {
     "ename": "TypeError",
     "evalue": "'int' object is not an iterator",
     "output_type": "error",
     "traceback": [
      "\u001b[0;31m---------------------------------------------------------------------------\u001b[0m",
      "\u001b[0;31mTypeError\u001b[0m                                 Traceback (most recent call last)",
      "Input \u001b[0;32mIn [14]\u001b[0m, in \u001b[0;36m<cell line: 1>\u001b[0;34m()\u001b[0m\n\u001b[0;32m----> 1\u001b[0m \u001b[38;5;28;43mnext\u001b[39;49m\u001b[43m(\u001b[49m\u001b[38;5;241;43m45\u001b[39;49m\u001b[43m)\u001b[49m\n",
      "\u001b[0;31mTypeError\u001b[0m: 'int' object is not an iterator"
     ]
    }
   ],
   "source": [
    "next(45)"
   ]
  },
  {
   "cell_type": "code",
   "execution_count": 15,
   "id": "7974e64d",
   "metadata": {},
   "outputs": [
    {
     "ename": "TypeError",
     "evalue": "'int' object is not iterable",
     "output_type": "error",
     "traceback": [
      "\u001b[0;31m---------------------------------------------------------------------------\u001b[0m",
      "\u001b[0;31mTypeError\u001b[0m                                 Traceback (most recent call last)",
      "Input \u001b[0;32mIn [15]\u001b[0m, in \u001b[0;36m<cell line: 1>\u001b[0;34m()\u001b[0m\n\u001b[0;32m----> 1\u001b[0m \u001b[38;5;28;43miter\u001b[39;49m\u001b[43m(\u001b[49m\u001b[38;5;241;43m45\u001b[39;49m\u001b[43m)\u001b[49m\n",
      "\u001b[0;31mTypeError\u001b[0m: 'int' object is not iterable"
     ]
    }
   ],
   "source": [
    "iter(45)"
   ]
  },
  {
   "cell_type": "markdown",
   "id": "cf41d7d9",
   "metadata": {},
   "source": [
    "Object or Data set which is iterable we can convert it into iterator.\n",
    "data which is not iterable like intger we can't convert it into interator\n",
    "for loop calls iter() function and convert each and every function into iterator and after that by using next() function it iterate through the data set and extract the data one by one."
   ]
  },
  {
   "cell_type": "code",
   "execution_count": 16,
   "id": "78430a2a",
   "metadata": {},
   "outputs": [
    {
     "ename": "TypeError",
     "evalue": "'int' object is not iterable",
     "output_type": "error",
     "traceback": [
      "\u001b[0;31m---------------------------------------------------------------------------\u001b[0m",
      "\u001b[0;31mTypeError\u001b[0m                                 Traceback (most recent call last)",
      "Input \u001b[0;32mIn [16]\u001b[0m, in \u001b[0;36m<cell line: 1>\u001b[0;34m()\u001b[0m\n\u001b[0;32m----> 1\u001b[0m \u001b[38;5;28;01mfor\u001b[39;00m i \u001b[38;5;129;01min\u001b[39;00m \u001b[38;5;241m49875\u001b[39m:\n\u001b[1;32m      2\u001b[0m     \u001b[38;5;28mprint\u001b[39m(i)\n",
      "\u001b[0;31mTypeError\u001b[0m: 'int' object is not iterable"
     ]
    }
   ],
   "source": [
    "for i in 49875:\n",
    "    print(i)"
   ]
  },
  {
   "cell_type": "markdown",
   "id": "00ca7be2",
   "metadata": {},
   "source": [
    "# How for loop works?\n",
    "if object is iterable the for loop converts the object into iterator\n",
    "and after that by call next() function multiple times and fetch the data."
   ]
  },
  {
   "cell_type": "code",
   "execution_count": 18,
   "id": "98c70e7a",
   "metadata": {},
   "outputs": [
    {
     "name": "stdout",
     "output_type": "stream",
     "text": [
      "m\n",
      "a\n",
      "d\n",
      "h\n",
      "u\n"
     ]
    }
   ],
   "source": [
    "for i in \"madhu\": \n",
    "    print(i)"
   ]
  },
  {
   "cell_type": "markdown",
   "id": "f798937c",
   "metadata": {},
   "source": [
    "# By default list object is iterable but not iterator. "
   ]
  },
  {
   "cell_type": "code",
   "execution_count": 22,
   "id": "cc1bd4ab",
   "metadata": {},
   "outputs": [],
   "source": [
    "m = \"Madhu\""
   ]
  },
  {
   "cell_type": "code",
   "execution_count": 23,
   "id": "c1fd24fe",
   "metadata": {},
   "outputs": [
    {
     "ename": "TypeError",
     "evalue": "'str' object is not an iterator",
     "output_type": "error",
     "traceback": [
      "\u001b[0;31m---------------------------------------------------------------------------\u001b[0m",
      "\u001b[0;31mTypeError\u001b[0m                                 Traceback (most recent call last)",
      "Input \u001b[0;32mIn [23]\u001b[0m, in \u001b[0;36m<cell line: 1>\u001b[0;34m()\u001b[0m\n\u001b[0;32m----> 1\u001b[0m \u001b[38;5;28;43mnext\u001b[39;49m\u001b[43m(\u001b[49m\u001b[43mm\u001b[49m\u001b[43m)\u001b[49m\n",
      "\u001b[0;31mTypeError\u001b[0m: 'str' object is not an iterator"
     ]
    }
   ],
   "source": [
    "next(m)"
   ]
  },
  {
   "cell_type": "markdown",
   "id": "0272a24c",
   "metadata": {},
   "source": [
    "# Y this error?\n",
    "because by default string is not iterator object it is iterable.\n",
    "so first we need to convert it into iterator using iter() funtion.\n",
    "after that we can iterate through it and fetch the data."
   ]
  },
  {
   "cell_type": "code",
   "execution_count": 26,
   "id": "eed21896",
   "metadata": {},
   "outputs": [],
   "source": [
    "a = iter(m)"
   ]
  },
  {
   "cell_type": "code",
   "execution_count": 27,
   "id": "3cd18cc2",
   "metadata": {},
   "outputs": [
    {
     "data": {
      "text/plain": [
       "'M'"
      ]
     },
     "execution_count": 27,
     "metadata": {},
     "output_type": "execute_result"
    }
   ],
   "source": [
    "next(a)"
   ]
  },
  {
   "cell_type": "code",
   "execution_count": 28,
   "id": "a8b60ba4",
   "metadata": {},
   "outputs": [
    {
     "data": {
      "text/plain": [
       "'a'"
      ]
     },
     "execution_count": 28,
     "metadata": {},
     "output_type": "execute_result"
    }
   ],
   "source": [
    "next(a)"
   ]
  },
  {
   "cell_type": "code",
   "execution_count": 29,
   "id": "bb8aa0cb",
   "metadata": {},
   "outputs": [
    {
     "data": {
      "text/plain": [
       "'d'"
      ]
     },
     "execution_count": 29,
     "metadata": {},
     "output_type": "execute_result"
    }
   ],
   "source": [
    "next(a)"
   ]
  },
  {
   "cell_type": "code",
   "execution_count": 30,
   "id": "bc417c3b",
   "metadata": {},
   "outputs": [
    {
     "data": {
      "text/plain": [
       "'h'"
      ]
     },
     "execution_count": 30,
     "metadata": {},
     "output_type": "execute_result"
    }
   ],
   "source": [
    "next(a)"
   ]
  },
  {
   "cell_type": "code",
   "execution_count": 31,
   "id": "683d4b30",
   "metadata": {},
   "outputs": [
    {
     "data": {
      "text/plain": [
       "'u'"
      ]
     },
     "execution_count": 31,
     "metadata": {},
     "output_type": "execute_result"
    }
   ],
   "source": [
    "next(a)"
   ]
  },
  {
   "cell_type": "code",
   "execution_count": 32,
   "id": "cbf88de6",
   "metadata": {},
   "outputs": [
    {
     "ename": "StopIteration",
     "evalue": "",
     "output_type": "error",
     "traceback": [
      "\u001b[0;31m---------------------------------------------------------------------------\u001b[0m",
      "\u001b[0;31mStopIteration\u001b[0m                             Traceback (most recent call last)",
      "Input \u001b[0;32mIn [32]\u001b[0m, in \u001b[0;36m<cell line: 1>\u001b[0;34m()\u001b[0m\n\u001b[0;32m----> 1\u001b[0m \u001b[38;5;28;43mnext\u001b[39;49m\u001b[43m(\u001b[49m\u001b[43ma\u001b[49m\u001b[43m)\u001b[49m\n",
      "\u001b[0;31mStopIteration\u001b[0m: "
     ]
    }
   ],
   "source": [
    "next(a)"
   ]
  },
  {
   "cell_type": "markdown",
   "id": "51685be7",
   "metadata": {},
   "source": [
    "# for loop try to find out the entire length of iterable or iterator object. It knows when to stop?\n",
    "Hence for loop uses len() function, iter() function and next() function. \n",
    "This is how for loop works internally."
   ]
  },
  {
   "cell_type": "code",
   "execution_count": 33,
   "id": "3f7288c3",
   "metadata": {},
   "outputs": [],
   "source": [
    "t = (3,4,5,6)"
   ]
  },
  {
   "cell_type": "code",
   "execution_count": 34,
   "id": "49011292",
   "metadata": {},
   "outputs": [
    {
     "ename": "TypeError",
     "evalue": "'tuple' object is not an iterator",
     "output_type": "error",
     "traceback": [
      "\u001b[0;31m---------------------------------------------------------------------------\u001b[0m",
      "\u001b[0;31mTypeError\u001b[0m                                 Traceback (most recent call last)",
      "Input \u001b[0;32mIn [34]\u001b[0m, in \u001b[0;36m<cell line: 1>\u001b[0;34m()\u001b[0m\n\u001b[0;32m----> 1\u001b[0m \u001b[38;5;28;43mnext\u001b[39;49m\u001b[43m(\u001b[49m\u001b[43mt\u001b[49m\u001b[43m)\u001b[49m\n",
      "\u001b[0;31mTypeError\u001b[0m: 'tuple' object is not an iterator"
     ]
    }
   ],
   "source": [
    "next(t)"
   ]
  },
  {
   "cell_type": "code",
   "execution_count": 37,
   "id": "0a9fee17",
   "metadata": {},
   "outputs": [],
   "source": [
    "b = iter(t)"
   ]
  },
  {
   "cell_type": "code",
   "execution_count": 38,
   "id": "f414c0bb",
   "metadata": {},
   "outputs": [
    {
     "data": {
      "text/plain": [
       "3"
      ]
     },
     "execution_count": 38,
     "metadata": {},
     "output_type": "execute_result"
    }
   ],
   "source": [
    "next(b)"
   ]
  },
  {
   "cell_type": "code",
   "execution_count": 39,
   "id": "0ed8af5a",
   "metadata": {},
   "outputs": [
    {
     "data": {
      "text/plain": [
       "4"
      ]
     },
     "execution_count": 39,
     "metadata": {},
     "output_type": "execute_result"
    }
   ],
   "source": [
    "next(b)"
   ]
  },
  {
   "cell_type": "code",
   "execution_count": 40,
   "id": "5d98f1ac",
   "metadata": {},
   "outputs": [
    {
     "data": {
      "text/plain": [
       "5"
      ]
     },
     "execution_count": 40,
     "metadata": {},
     "output_type": "execute_result"
    }
   ],
   "source": [
    "next(b)"
   ]
  },
  {
   "cell_type": "code",
   "execution_count": 41,
   "id": "43421340",
   "metadata": {},
   "outputs": [
    {
     "data": {
      "text/plain": [
       "6"
      ]
     },
     "execution_count": 41,
     "metadata": {},
     "output_type": "execute_result"
    }
   ],
   "source": [
    "next(b)"
   ]
  },
  {
   "cell_type": "code",
   "execution_count": 42,
   "id": "f70995b0",
   "metadata": {},
   "outputs": [
    {
     "ename": "StopIteration",
     "evalue": "",
     "output_type": "error",
     "traceback": [
      "\u001b[0;31m---------------------------------------------------------------------------\u001b[0m",
      "\u001b[0;31mStopIteration\u001b[0m                             Traceback (most recent call last)",
      "Input \u001b[0;32mIn [42]\u001b[0m, in \u001b[0;36m<cell line: 1>\u001b[0;34m()\u001b[0m\n\u001b[0;32m----> 1\u001b[0m \u001b[38;5;28;43mnext\u001b[39;49m\u001b[43m(\u001b[49m\u001b[43mb\u001b[49m\u001b[43m)\u001b[49m\n",
      "\u001b[0;31mStopIteration\u001b[0m: "
     ]
    }
   ],
   "source": [
    "next(b)"
   ]
  },
  {
   "cell_type": "markdown",
   "id": "e7e34f1b",
   "metadata": {},
   "source": [
    "we are actually not going to use it anywhere \n",
    "but you should know the implementation of for loop for interview purpose"
   ]
  },
  {
   "cell_type": "markdown",
   "id": "69ab98c0",
   "metadata": {},
   "source": [
    "# generator function"
   ]
  },
  {
   "cell_type": "code",
   "execution_count": 43,
   "id": "ade152bb",
   "metadata": {},
   "outputs": [
    {
     "data": {
      "text/plain": [
       "range(1, 10)"
      ]
     },
     "execution_count": 43,
     "metadata": {},
     "output_type": "execute_result"
    }
   ],
   "source": [
    "range(1,10)"
   ]
  },
  {
   "cell_type": "code",
   "execution_count": 44,
   "id": "f94de8cc",
   "metadata": {},
   "outputs": [
    {
     "data": {
      "text/plain": [
       "[1, 2, 3, 4, 5, 6, 7, 8, 9]"
      ]
     },
     "execution_count": 44,
     "metadata": {},
     "output_type": "execute_result"
    }
   ],
   "source": [
    "list(range(1,10)) # it generates data set for us"
   ]
  },
  {
   "cell_type": "code",
   "execution_count": 40,
   "id": "2f7fa633",
   "metadata": {},
   "outputs": [],
   "source": [
    "# write a function which will be able to generate square of data till n\n",
    "def square(n):\n",
    "    x = [i**2 for i in range(n)]\n",
    "    return x\n",
    "        "
   ]
  },
  {
   "cell_type": "code",
   "execution_count": 41,
   "id": "3430f6f5",
   "metadata": {},
   "outputs": [
    {
     "data": {
      "text/plain": [
       "[0, 1, 4, 9, 16, 25, 36, 49, 64, 81]"
      ]
     },
     "execution_count": 41,
     "metadata": {},
     "output_type": "execute_result"
    }
   ],
   "source": [
    "square(10)"
   ]
  },
  {
   "cell_type": "code",
   "execution_count": 42,
   "id": "801bc2f9",
   "metadata": {},
   "outputs": [],
   "source": [
    "b = lambda n: [i**2 for i in range(n)]"
   ]
  },
  {
   "cell_type": "code",
   "execution_count": 43,
   "id": "5a243bf4",
   "metadata": {},
   "outputs": [
    {
     "data": {
      "text/plain": [
       "[0, 1, 4, 9, 16, 25, 36, 49, 64, 81]"
      ]
     },
     "execution_count": 43,
     "metadata": {},
     "output_type": "execute_result"
    }
   ],
   "source": [
    "b(10)"
   ]
  },
  {
   "cell_type": "code",
   "execution_count": 44,
   "id": "b0f36a45",
   "metadata": {},
   "outputs": [
    {
     "data": {
      "text/plain": [
       "range(0, 7)"
      ]
     },
     "execution_count": 44,
     "metadata": {},
     "output_type": "execute_result"
    }
   ],
   "source": [
    "range(7)"
   ]
  },
  {
   "cell_type": "code",
   "execution_count": 45,
   "id": "e880e355",
   "metadata": {},
   "outputs": [
    {
     "data": {
      "text/plain": [
       "[0, 1, 2, 3, 4, 5, 6]"
      ]
     },
     "execution_count": 45,
     "metadata": {},
     "output_type": "execute_result"
    }
   ],
   "source": [
    "list(range(7))"
   ]
  },
  {
   "cell_type": "code",
   "execution_count": 27,
   "id": "e3b5dbf5",
   "metadata": {},
   "outputs": [],
   "source": [
    "def square1(n):\n",
    "    x =  [i**2 for i in range(n)]\n",
    "    yield x"
   ]
  },
  {
   "cell_type": "code",
   "execution_count": null,
   "id": "4f9025c6",
   "metadata": {},
   "outputs": [],
   "source": []
  },
  {
   "cell_type": "code",
   "execution_count": 28,
   "id": "d387a166",
   "metadata": {},
   "outputs": [
    {
     "data": {
      "text/plain": [
       "<generator object square1 at 0x7fc05dec3430>"
      ]
     },
     "execution_count": 28,
     "metadata": {},
     "output_type": "execute_result"
    }
   ],
   "source": [
    "square1(10) "
   ]
  },
  {
   "cell_type": "markdown",
   "id": "a5baed07",
   "metadata": {},
   "source": [
    "# Generator function\n",
    "it is returning us an object, with the help of this function. we will be able to generate a data set at any point of time "
   ]
  },
  {
   "cell_type": "code",
   "execution_count": 29,
   "id": "3f0196a9",
   "metadata": {},
   "outputs": [
    {
     "name": "stdout",
     "output_type": "stream",
     "text": [
      "[0, 1, 4, 9]\n"
     ]
    }
   ],
   "source": [
    "for i in square1(4):\n",
    "    print(i)"
   ]
  },
  {
   "cell_type": "code",
   "execution_count": 30,
   "id": "987a8448",
   "metadata": {},
   "outputs": [
    {
     "name": "stdout",
     "output_type": "stream",
     "text": [
      "0\n",
      "1\n",
      "2\n",
      "3\n"
     ]
    }
   ],
   "source": [
    "for i in range(4):\n",
    "    print(i)"
   ]
  },
  {
   "cell_type": "code",
   "execution_count": 31,
   "id": "c83b047d",
   "metadata": {},
   "outputs": [
    {
     "data": {
      "text/plain": [
       "[0, 1, 4, 9, 16]"
      ]
     },
     "execution_count": 31,
     "metadata": {},
     "output_type": "execute_result"
    }
   ],
   "source": [
    "next(square1(5))"
   ]
  },
  {
   "cell_type": "code",
   "execution_count": 32,
   "id": "baa2c472",
   "metadata": {},
   "outputs": [
    {
     "ename": "TypeError",
     "evalue": "'range' object is not an iterator",
     "output_type": "error",
     "traceback": [
      "\u001b[0;31m---------------------------------------------------------------------------\u001b[0m",
      "\u001b[0;31mTypeError\u001b[0m                                 Traceback (most recent call last)",
      "Input \u001b[0;32mIn [32]\u001b[0m, in \u001b[0;36m<cell line: 1>\u001b[0;34m()\u001b[0m\n\u001b[0;32m----> 1\u001b[0m \u001b[38;5;28;43mnext\u001b[39;49m\u001b[43m(\u001b[49m\u001b[38;5;28;43mrange\u001b[39;49m\u001b[43m(\u001b[49m\u001b[38;5;241;43m6\u001b[39;49m\u001b[43m)\u001b[49m\u001b[43m)\u001b[49m\n",
      "\u001b[0;31mTypeError\u001b[0m: 'range' object is not an iterator"
     ]
    }
   ],
   "source": [
    "next(range(6))"
   ]
  },
  {
   "cell_type": "code",
   "execution_count": 33,
   "id": "f034e05b",
   "metadata": {},
   "outputs": [],
   "source": [
    "r = iter(range(4))"
   ]
  },
  {
   "cell_type": "code",
   "execution_count": 34,
   "id": "eb149fe8",
   "metadata": {},
   "outputs": [
    {
     "data": {
      "text/plain": [
       "0"
      ]
     },
     "execution_count": 34,
     "metadata": {},
     "output_type": "execute_result"
    }
   ],
   "source": [
    "next(r)"
   ]
  },
  {
   "cell_type": "code",
   "execution_count": 36,
   "id": "82c1f6a4",
   "metadata": {},
   "outputs": [
    {
     "data": {
      "text/plain": [
       "1"
      ]
     },
     "execution_count": 36,
     "metadata": {},
     "output_type": "execute_result"
    }
   ],
   "source": [
    "next(r)"
   ]
  },
  {
   "cell_type": "code",
   "execution_count": 37,
   "id": "104aa5ca",
   "metadata": {},
   "outputs": [
    {
     "data": {
      "text/plain": [
       "2"
      ]
     },
     "execution_count": 37,
     "metadata": {},
     "output_type": "execute_result"
    }
   ],
   "source": [
    "next(r)"
   ]
  },
  {
   "cell_type": "code",
   "execution_count": 38,
   "id": "ec532f90",
   "metadata": {},
   "outputs": [
    {
     "data": {
      "text/plain": [
       "3"
      ]
     },
     "execution_count": 38,
     "metadata": {},
     "output_type": "execute_result"
    }
   ],
   "source": [
    "next(r)"
   ]
  },
  {
   "cell_type": "code",
   "execution_count": 39,
   "id": "fe68fdfa",
   "metadata": {},
   "outputs": [
    {
     "ename": "StopIteration",
     "evalue": "",
     "output_type": "error",
     "traceback": [
      "\u001b[0;31m---------------------------------------------------------------------------\u001b[0m",
      "\u001b[0;31mStopIteration\u001b[0m                             Traceback (most recent call last)",
      "Input \u001b[0;32mIn [39]\u001b[0m, in \u001b[0;36m<cell line: 1>\u001b[0;34m()\u001b[0m\n\u001b[0;32m----> 1\u001b[0m \u001b[38;5;28;43mnext\u001b[39;49m\u001b[43m(\u001b[49m\u001b[43mr\u001b[49m\u001b[43m)\u001b[49m\n",
      "\u001b[0;31mStopIteration\u001b[0m: "
     ]
    }
   ],
   "source": [
    "next(r)"
   ]
  },
  {
   "cell_type": "markdown",
   "id": "e3fbfc51",
   "metadata": {},
   "source": [
    "# Difference b/w return and yield"
   ]
  },
  {
   "cell_type": "markdown",
   "id": "00938878",
   "metadata": {},
   "source": [
    "In case of return function just returns and we get the data but instead of that what we want is \n",
    "I don't want a return I want an object and once we iterate through it we will get the data one by one. \n",
    "and that finction is called as generator function."
   ]
  },
  {
   "cell_type": "markdown",
   "id": "44088405",
   "metadata": {},
   "source": [
    "# So to convert any function into a generator function what is our keyword?\n",
    "our keyword is yield. So instead of using return in a function we can use yield inside a function.\n",
    "# where can we use it?\n",
    "So if someone asks you instead of range can we have any other generator function then answer is yield."
   ]
  },
  {
   "cell_type": "code",
   "execution_count": 63,
   "id": "d5001235",
   "metadata": {},
   "outputs": [],
   "source": [
    "# please write a code for fibonacci series.\n",
    "def genfib(n):\n",
    "    a = 1\n",
    "    b = 1\n",
    "    l = []\n",
    "    for i in range(n):\n",
    "        l.append(a)\n",
    "        a,b = b, a+b\n",
    "    return l"
   ]
  },
  {
   "cell_type": "code",
   "execution_count": 1,
   "id": "32ac93cb",
   "metadata": {},
   "outputs": [],
   "source": [
    "# genfib(100000000) If you try to give very big no. your system will hang in case of return but not in case of yield."
   ]
  },
  {
   "cell_type": "code",
   "execution_count": 59,
   "id": "b23b6c14",
   "metadata": {},
   "outputs": [
    {
     "data": {
      "text/plain": [
       "<generator object genfib at 0x7fc05de87190>"
      ]
     },
     "execution_count": 59,
     "metadata": {},
     "output_type": "execute_result"
    }
   ],
   "source": [
    "genfib(10000)"
   ]
  },
  {
   "cell_type": "markdown",
   "id": "0bee85dc",
   "metadata": {},
   "source": [
    "# Now I don't want return. I would like to create range() like function\n",
    "which will behave like a generator. which will keep on generating the data\n",
    "I am not expecting it to give data set immediately. It should keep on generating the data set.\n",
    "So we will see how to do that and then we will see what is the actual difference between return and yield in runtime and it's uses."
   ]
  },
  {
   "cell_type": "code",
   "execution_count": 8,
   "id": "daaa0090",
   "metadata": {},
   "outputs": [],
   "source": [
    "def genfib1(n):\n",
    "    a = 1\n",
    "    b = 1\n",
    "    l = []\n",
    "    for i in range(n):\n",
    "        l.append(a)\n",
    "        a,b = b, a+b\n",
    "    yield(l)"
   ]
  },
  {
   "cell_type": "code",
   "execution_count": 9,
   "id": "24eb7048",
   "metadata": {},
   "outputs": [
    {
     "data": {
      "text/plain": [
       "<generator object genfib1 at 0x7fbdc595e900>"
      ]
     },
     "execution_count": 9,
     "metadata": {},
     "output_type": "execute_result"
    }
   ],
   "source": [
    "genfib1(10) # here we can see that it is not giving me the data but object"
   ]
  },
  {
   "cell_type": "code",
   "execution_count": 10,
   "id": "06b7ce98",
   "metadata": {},
   "outputs": [
    {
     "name": "stdout",
     "output_type": "stream",
     "text": [
      "[1, 1, 2, 3, 5, 8, 13, 21, 34, 55]\n"
     ]
    }
   ],
   "source": [
    "for i in genfib1(10): # so we can see that there is no difference\n",
    "    print(i)\n",
    "    "
   ]
  },
  {
   "cell_type": "markdown",
   "id": "95fcc1ca",
   "metadata": {},
   "source": [
    " so basically the difference between return and yield is return will first do all the computation\n",
    "and will return at last but in case of yield cpu will keep executing and keep throwing the data in console\n",
    "So yes in in case of return cpu computation is very very high and we are not even getting the data\n",
    "but in case of yield cpu consumption is high but bit less than return and we keep getting data."
   ]
  },
  {
   "cell_type": "markdown",
   "id": "29a0af47",
   "metadata": {},
   "source": [
    "# Where do you use?\n",
    "# Most programmer use return instead of yield any particular reason?\n",
    "Ans: It depends on requirement If you don't have to generate very big data set better to go with return.\n",
    "    In case if you need to generate terabyte of data and you don't want to use whole resources in case of big\n",
    "    computation better go with the yield statement."
   ]
  },
  {
   "cell_type": "markdown",
   "id": "80e29243",
   "metadata": {},
   "source": [
    "by default string, tuple, list all are iterable object not iterator object."
   ]
  },
  {
   "cell_type": "markdown",
   "id": "7dbb99be",
   "metadata": {},
   "source": [
    "# file operations"
   ]
  },
  {
   "cell_type": "code",
   "execution_count": 12,
   "id": "49176855",
   "metadata": {},
   "outputs": [
    {
     "ename": "FileNotFoundError",
     "evalue": "[Errno 2] No such file or directory: 'test.txt'",
     "output_type": "error",
     "traceback": [
      "\u001b[0;31m---------------------------------------------------------------------------\u001b[0m",
      "\u001b[0;31mFileNotFoundError\u001b[0m                         Traceback (most recent call last)",
      "Input \u001b[0;32mIn [12]\u001b[0m, in \u001b[0;36m<cell line: 1>\u001b[0;34m()\u001b[0m\n\u001b[0;32m----> 1\u001b[0m f \u001b[38;5;241m=\u001b[39m \u001b[38;5;28;43mopen\u001b[39;49m\u001b[43m(\u001b[49m\u001b[38;5;124;43m\"\u001b[39;49m\u001b[38;5;124;43mtest.txt\u001b[39;49m\u001b[38;5;124;43m\"\u001b[39;49m\u001b[43m)\u001b[49m\n",
      "\u001b[0;31mFileNotFoundError\u001b[0m: [Errno 2] No such file or directory: 'test.txt'"
     ]
    }
   ],
   "source": [
    "f = open(\"test.txt\")"
   ]
  },
  {
   "cell_type": "code",
   "execution_count": 18,
   "id": "50870765",
   "metadata": {},
   "outputs": [
    {
     "name": "stdout",
     "output_type": "stream",
     "text": [
      "ExceptionHandling.ipynb                ExceptionHandlingBy sudhansuSir.ipynb\r\n"
     ]
    }
   ],
   "source": [
    "ls"
   ]
  },
  {
   "cell_type": "code",
   "execution_count": 19,
   "id": "58adc215",
   "metadata": {},
   "outputs": [
    {
     "name": "stdout",
     "output_type": "stream",
     "text": [
      "/Users/madhu\n"
     ]
    }
   ],
   "source": [
    "cd"
   ]
  },
  {
   "cell_type": "code",
   "execution_count": 22,
   "id": "8d3596ed",
   "metadata": {},
   "outputs": [
    {
     "data": {
      "text/plain": [
       "'/Users/madhu'"
      ]
     },
     "execution_count": 22,
     "metadata": {},
     "output_type": "execute_result"
    }
   ],
   "source": [
    "pwd"
   ]
  },
  {
   "cell_type": "code",
   "execution_count": 23,
   "id": "4bb8f7a0",
   "metadata": {},
   "outputs": [
    {
     "name": "stdout",
     "output_type": "stream",
     "text": [
      "\u001b[1m\u001b[36mApplications\u001b[m\u001b[m/             Untitled12.ipynb          challenge1.ipynb\r\n",
      "\u001b[1m\u001b[36mDesktop\u001b[m\u001b[m/                  Untitled13.ipynb          doubts.ipynb\r\n",
      "\u001b[1m\u001b[36mDocuments\u001b[m\u001b[m/                Untitled14.ipynb          firstClass.ipynb\r\n",
      "\u001b[1m\u001b[36mDownloads\u001b[m\u001b[m/                Untitled15.ipynb          firstclasspfsd.ipynb\r\n",
      "\u001b[1m\u001b[36mLibrary\u001b[m\u001b[m/                  Untitled16.ipynb          firstclasspfsdHons.ipynb\r\n",
      "\u001b[1m\u001b[36mMovies\u001b[m\u001b[m/                   Untitled17.ipynb          get-pip.py\r\n",
      "\u001b[1m\u001b[36mMusic\u001b[m\u001b[m/                    Untitled18.ipynb          \u001b[1m\u001b[36miCloud Drive (Archive)\u001b[m\u001b[m/\r\n",
      "\u001b[1m\u001b[36mPictures\u001b[m\u001b[m/                 Untitled19.ipynb          ifElse.ipynb\r\n",
      "\u001b[1m\u001b[36mPublic\u001b[m\u001b[m/                   Untitled2.ipynb           list and tuple.ipynb\r\n",
      "String_Class.ipynb        Untitled3.ipynb           list.ipynb\r\n",
      "String_function3.ipynb    Untitled4.ipynb           \u001b[1m\u001b[36mopt\u001b[m\u001b[m/\r\n",
      "StringsRG.ipynb           Untitled5.ipynb           package-lock.json\r\n",
      "Untitled.ipynb            Untitled6.ipynb           string_function2.ipynb\r\n",
      "Untitled1.ipynb           Untitled7.ipynb           string_functions.ipynb\r\n",
      "Untitled10.ipynb          Untitled8.ipynb\r\n",
      "Untitled11.ipynb          Untitled9.ipynb\r\n"
     ]
    }
   ],
   "source": [
    "ls\n"
   ]
  },
  {
   "cell_type": "code",
   "execution_count": 25,
   "id": "74cb6de8",
   "metadata": {},
   "outputs": [
    {
     "name": "stdout",
     "output_type": "stream",
     "text": [
      "\u001b[1m\u001b[36mApplications\u001b[m\u001b[m/             Untitled12.ipynb          challenge1.ipynb\r\n",
      "\u001b[1m\u001b[36mDesktop\u001b[m\u001b[m/                  Untitled13.ipynb          doubts.ipynb\r\n",
      "\u001b[1m\u001b[36mDocuments\u001b[m\u001b[m/                Untitled14.ipynb          firstClass.ipynb\r\n",
      "\u001b[1m\u001b[36mDownloads\u001b[m\u001b[m/                Untitled15.ipynb          firstclasspfsd.ipynb\r\n",
      "\u001b[1m\u001b[36mLibrary\u001b[m\u001b[m/                  Untitled16.ipynb          firstclasspfsdHons.ipynb\r\n",
      "\u001b[1m\u001b[36mMovies\u001b[m\u001b[m/                   Untitled17.ipynb          get-pip.py\r\n",
      "\u001b[1m\u001b[36mMusic\u001b[m\u001b[m/                    Untitled18.ipynb          \u001b[1m\u001b[36miCloud Drive (Archive)\u001b[m\u001b[m/\r\n",
      "\u001b[1m\u001b[36mPictures\u001b[m\u001b[m/                 Untitled19.ipynb          ifElse.ipynb\r\n",
      "\u001b[1m\u001b[36mPublic\u001b[m\u001b[m/                   Untitled2.ipynb           list and tuple.ipynb\r\n",
      "String_Class.ipynb        Untitled3.ipynb           list.ipynb\r\n",
      "String_function3.ipynb    Untitled4.ipynb           \u001b[1m\u001b[36mopt\u001b[m\u001b[m/\r\n",
      "StringsRG.ipynb           Untitled5.ipynb           package-lock.json\r\n",
      "Untitled.ipynb            Untitled6.ipynb           string_function2.ipynb\r\n",
      "Untitled1.ipynb           Untitled7.ipynb           string_functions.ipynb\r\n",
      "Untitled10.ipynb          Untitled8.ipynb\r\n",
      "Untitled11.ipynb          Untitled9.ipynb\r\n"
     ]
    }
   ],
   "source": [
    "ls"
   ]
  },
  {
   "cell_type": "code",
   "execution_count": 29,
   "id": "ad5113e2",
   "metadata": {},
   "outputs": [],
   "source": [
    "# create a file of name madhu\n",
    "f = open(\"madhu.txt\", 'w')"
   ]
  },
  {
   "cell_type": "code",
   "execution_count": 30,
   "id": "3d212f0d",
   "metadata": {},
   "outputs": [
    {
     "name": "stdout",
     "output_type": "stream",
     "text": [
      "\u001b[1m\u001b[36mApplications\u001b[m\u001b[m/             Untitled12.ipynb          challenge1.ipynb\r\n",
      "\u001b[1m\u001b[36mDesktop\u001b[m\u001b[m/                  Untitled13.ipynb          doubts.ipynb\r\n",
      "\u001b[1m\u001b[36mDocuments\u001b[m\u001b[m/                Untitled14.ipynb          firstClass.ipynb\r\n",
      "\u001b[1m\u001b[36mDownloads\u001b[m\u001b[m/                Untitled15.ipynb          firstclasspfsd.ipynb\r\n",
      "\u001b[1m\u001b[36mLibrary\u001b[m\u001b[m/                  Untitled16.ipynb          firstclasspfsdHons.ipynb\r\n",
      "\u001b[1m\u001b[36mMovies\u001b[m\u001b[m/                   Untitled17.ipynb          get-pip.py\r\n",
      "\u001b[1m\u001b[36mMusic\u001b[m\u001b[m/                    Untitled18.ipynb          \u001b[1m\u001b[36miCloud Drive (Archive)\u001b[m\u001b[m/\r\n",
      "\u001b[1m\u001b[36mPictures\u001b[m\u001b[m/                 Untitled19.ipynb          ifElse.ipynb\r\n",
      "\u001b[1m\u001b[36mPublic\u001b[m\u001b[m/                   Untitled2.ipynb           list and tuple.ipynb\r\n",
      "String_Class.ipynb        Untitled3.ipynb           list.ipynb\r\n",
      "String_function3.ipynb    Untitled4.ipynb           madhu.txt\r\n",
      "StringsRG.ipynb           Untitled5.ipynb           \u001b[1m\u001b[36mopt\u001b[m\u001b[m/\r\n",
      "Untitled.ipynb            Untitled6.ipynb           package-lock.json\r\n",
      "Untitled1.ipynb           Untitled7.ipynb           string_function2.ipynb\r\n",
      "Untitled10.ipynb          Untitled8.ipynb           string_functions.ipynb\r\n",
      "Untitled11.ipynb          Untitled9.ipynb           test.txt\r\n"
     ]
    }
   ],
   "source": [
    "ls"
   ]
  },
  {
   "cell_type": "markdown",
   "id": "2a388f85",
   "metadata": {},
   "source": [
    "different filr operation\n",
    "Mode of file operation\n",
    "r -> read operation\n",
    "w -> write operation\n",
    "r+ -> open a file for both writing and reading\n",
    "w+ -> both read and write operation\n",
    "wb ->\n",
    "wb+ ->\n",
    "a ->\n",
    "rb ->"
   ]
  },
  {
   "cell_type": "code",
   "execution_count": null,
   "id": "4e7a250f",
   "metadata": {},
   "outputs": [],
   "source": [
    " "
   ]
  },
  {
   "cell_type": "code",
   "execution_count": 31,
   "id": "3aa953fe",
   "metadata": {},
   "outputs": [
    {
     "data": {
      "text/plain": [
       "31"
      ]
     },
     "execution_count": 31,
     "metadata": {},
     "output_type": "execute_result"
    }
   ],
   "source": [
    "f.write(\"This is my first file operation\")"
   ]
  },
  {
   "cell_type": "code",
   "execution_count": 32,
   "id": "9d56d7da",
   "metadata": {},
   "outputs": [],
   "source": [
    "f.close()"
   ]
  },
  {
   "cell_type": "code",
   "execution_count": 33,
   "id": "f01316f1",
   "metadata": {},
   "outputs": [
    {
     "name": "stdout",
     "output_type": "stream",
     "text": [
      "\u001b[1m\u001b[36mApplications\u001b[m\u001b[m/             Untitled12.ipynb          challenge1.ipynb\r\n",
      "\u001b[1m\u001b[36mDesktop\u001b[m\u001b[m/                  Untitled13.ipynb          doubts.ipynb\r\n",
      "\u001b[1m\u001b[36mDocuments\u001b[m\u001b[m/                Untitled14.ipynb          firstClass.ipynb\r\n",
      "\u001b[1m\u001b[36mDownloads\u001b[m\u001b[m/                Untitled15.ipynb          firstclasspfsd.ipynb\r\n",
      "\u001b[1m\u001b[36mLibrary\u001b[m\u001b[m/                  Untitled16.ipynb          firstclasspfsdHons.ipynb\r\n",
      "\u001b[1m\u001b[36mMovies\u001b[m\u001b[m/                   Untitled17.ipynb          get-pip.py\r\n",
      "\u001b[1m\u001b[36mMusic\u001b[m\u001b[m/                    Untitled18.ipynb          \u001b[1m\u001b[36miCloud Drive (Archive)\u001b[m\u001b[m/\r\n",
      "\u001b[1m\u001b[36mPictures\u001b[m\u001b[m/                 Untitled19.ipynb          ifElse.ipynb\r\n",
      "\u001b[1m\u001b[36mPublic\u001b[m\u001b[m/                   Untitled2.ipynb           list and tuple.ipynb\r\n",
      "String_Class.ipynb        Untitled3.ipynb           list.ipynb\r\n",
      "String_function3.ipynb    Untitled4.ipynb           madhu.txt\r\n",
      "StringsRG.ipynb           Untitled5.ipynb           \u001b[1m\u001b[36mopt\u001b[m\u001b[m/\r\n",
      "Untitled.ipynb            Untitled6.ipynb           package-lock.json\r\n",
      "Untitled1.ipynb           Untitled7.ipynb           string_function2.ipynb\r\n",
      "Untitled10.ipynb          Untitled8.ipynb           string_functions.ipynb\r\n",
      "Untitled11.ipynb          Untitled9.ipynb           test.txt\r\n"
     ]
    }
   ],
   "source": [
    "ls"
   ]
  },
  {
   "cell_type": "code",
   "execution_count": 34,
   "id": "912ace7d",
   "metadata": {},
   "outputs": [
    {
     "data": {
      "text/plain": [
       "'/Users/madhu'"
      ]
     },
     "execution_count": 34,
     "metadata": {},
     "output_type": "execute_result"
    }
   ],
   "source": [
    "pwd"
   ]
  },
  {
   "cell_type": "markdown",
   "id": "893213ce",
   "metadata": {},
   "source": [
    "# Two ways to do write operations over file\n",
    "# 1st Method"
   ]
  },
  {
   "cell_type": "code",
   "execution_count": 36,
   "id": "f6f76c65",
   "metadata": {},
   "outputs": [],
   "source": [
    "f1 = open(\"test1.txt\", 'w')"
   ]
  },
  {
   "cell_type": "code",
   "execution_count": 37,
   "id": "184d03dc",
   "metadata": {},
   "outputs": [
    {
     "data": {
      "text/plain": [
       "36"
      ]
     },
     "execution_count": 37,
     "metadata": {},
     "output_type": "execute_result"
    }
   ],
   "source": [
    "f1.write(\"I am tryind to learn file operations\")"
   ]
  },
  {
   "cell_type": "code",
   "execution_count": 38,
   "id": "79525fe4",
   "metadata": {},
   "outputs": [],
   "source": [
    "f1.close()"
   ]
  },
  {
   "cell_type": "code",
   "execution_count": 39,
   "id": "3f41c132",
   "metadata": {},
   "outputs": [],
   "source": [
    "l = [1,2,3,4,5,6,7] # try to store it inside file"
   ]
  },
  {
   "cell_type": "code",
   "execution_count": 40,
   "id": "7f1af469",
   "metadata": {},
   "outputs": [],
   "source": [
    "f2 = open(\"test2.txt\", 'w')"
   ]
  },
  {
   "cell_type": "code",
   "execution_count": 41,
   "id": "274cc598",
   "metadata": {},
   "outputs": [
    {
     "ename": "TypeError",
     "evalue": "write() argument must be str, not list",
     "output_type": "error",
     "traceback": [
      "\u001b[0;31m---------------------------------------------------------------------------\u001b[0m",
      "\u001b[0;31mTypeError\u001b[0m                                 Traceback (most recent call last)",
      "Input \u001b[0;32mIn [41]\u001b[0m, in \u001b[0;36m<cell line: 1>\u001b[0;34m()\u001b[0m\n\u001b[0;32m----> 1\u001b[0m \u001b[43mf2\u001b[49m\u001b[38;5;241;43m.\u001b[39;49m\u001b[43mwrite\u001b[49m\u001b[43m(\u001b[49m\u001b[43ml\u001b[49m\u001b[43m)\u001b[49m\n",
      "\u001b[0;31mTypeError\u001b[0m: write() argument must be str, not list"
     ]
    }
   ],
   "source": [
    "f2.write(l)"
   ]
  },
  {
   "cell_type": "markdown",
   "id": "c1b9b4c2",
   "metadata": {},
   "source": [
    "# Why this error?\n",
    "Since write doesn't accept list type it only stores data in form of string.\n",
    "So we need to convert the list in list.\n"
   ]
  },
  {
   "cell_type": "code",
   "execution_count": 42,
   "id": "c8e778a9",
   "metadata": {},
   "outputs": [
    {
     "data": {
      "text/plain": [
       "21"
      ]
     },
     "execution_count": 42,
     "metadata": {},
     "output_type": "execute_result"
    }
   ],
   "source": [
    "f2.write(str(l))"
   ]
  },
  {
   "cell_type": "code",
   "execution_count": 44,
   "id": "ca144089",
   "metadata": {},
   "outputs": [],
   "source": [
    "f2.close() # without closing the file data won't get stored in file."
   ]
  },
  {
   "cell_type": "code",
   "execution_count": 45,
   "id": "9df87c54",
   "metadata": {},
   "outputs": [],
   "source": [
    "f3 = open(\"test.madhu\",'w')# we can create a file with any extension"
   ]
  },
  {
   "cell_type": "code",
   "execution_count": 46,
   "id": "ede8c434",
   "metadata": {},
   "outputs": [
    {
     "data": {
      "text/plain": [
       "13"
      ]
     },
     "execution_count": 46,
     "metadata": {},
     "output_type": "execute_result"
    }
   ],
   "source": [
    "f3.write(\"I love python\")"
   ]
  },
  {
   "cell_type": "code",
   "execution_count": 47,
   "id": "2dd35e3c",
   "metadata": {},
   "outputs": [],
   "source": [
    "f3.close()"
   ]
  },
  {
   "cell_type": "markdown",
   "id": "a259da08",
   "metadata": {},
   "source": [
    "# 2nd Method"
   ]
  },
  {
   "cell_type": "code",
   "execution_count": 54,
   "id": "2da4d861",
   "metadata": {},
   "outputs": [
    {
     "name": "stdout",
     "output_type": "stream",
     "text": [
      "Overwriting test5.txt\n"
     ]
    }
   ],
   "source": [
    "%%writefile test5.txt\n",
    "This is my python program to write into a file in different way.\n",
    "This is my python program to write into a file in different way.\n",
    "This is my python program to write into a file in different way\n",
    "This is my python program to write into a file in different way\n",
    "This is my python program to write into a file in different way\n",
    "This is my python program to write into a file in different way\n",
    "This is my python program to write into a file in different way"
   ]
  },
  {
   "cell_type": "code",
   "execution_count": 50,
   "id": "67fe7853",
   "metadata": {},
   "outputs": [
    {
     "data": {
      "text/plain": [
       "'/Users/madhu'"
      ]
     },
     "execution_count": 50,
     "metadata": {},
     "output_type": "execute_result"
    }
   ],
   "source": [
    "pwd\n"
   ]
  },
  {
   "cell_type": "markdown",
   "id": "f66ce740",
   "metadata": {},
   "source": [
    "# y is it important?\n",
    "people are not going to give you data directly.\n",
    "They will be giving you in some file format or can give access of databases \n",
    "in sql or no sql so from there you will have to perfom read/write operations and you will have to \n",
    "write the logic over those files and i.e where it helps.\n",
    "In python it's very easy to work with file in any kind of file format."
   ]
  },
  {
   "cell_type": "code",
   "execution_count": 57,
   "id": "44d225f0",
   "metadata": {},
   "outputs": [
    {
     "data": {
      "text/plain": [
       "'This is my python program to write into a file in different way.\\nThis is my python program to write into a file in different way.\\nThis is my python program to write into a file in different way\\nThis is my python program to write into a file in different way\\nThis is my python program to write into a file in different way\\nThis is my python program to write into a file in different way\\nThis is my python program to write into a file in different way\\n'"
      ]
     },
     "execution_count": 57,
     "metadata": {},
     "output_type": "execute_result"
    }
   ],
   "source": [
    "# perform only read operation\n",
    "f = open('test5.txt')\n",
    "f.read()\n"
   ]
  },
  {
   "cell_type": "code",
   "execution_count": 58,
   "id": "148a5785",
   "metadata": {},
   "outputs": [
    {
     "data": {
      "text/plain": [
       "''"
      ]
     },
     "execution_count": 58,
     "metadata": {},
     "output_type": "execute_result"
    }
   ],
   "source": [
    "# re-executed the sread operation but not getting it in second time why?\n",
    "# bcz in string we iterate through the string and get the data but now pointer is at last so we are not able to get. it is already exhausted.\n",
    "f.read()"
   ]
  },
  {
   "cell_type": "code",
   "execution_count": 60,
   "id": "4e4ae16d",
   "metadata": {},
   "outputs": [
    {
     "data": {
      "text/plain": [
       "0"
      ]
     },
     "execution_count": 60,
     "metadata": {},
     "output_type": "execute_result"
    }
   ],
   "source": [
    "# How to adjust the pointer?\n",
    "# use seek() function to reset your pointer\n",
    "f.seek(0)"
   ]
  },
  {
   "cell_type": "code",
   "execution_count": 61,
   "id": "8b30ec4f",
   "metadata": {},
   "outputs": [
    {
     "data": {
      "text/plain": [
       "'This is my python program to write into a file in different way.\\nThis is my python program to write into a file in different way.\\nThis is my python program to write into a file in different way\\nThis is my python program to write into a file in different way\\nThis is my python program to write into a file in different way\\nThis is my python program to write into a file in different way\\nThis is my python program to write into a file in different way\\n'"
      ]
     },
     "execution_count": 61,
     "metadata": {},
     "output_type": "execute_result"
    }
   ],
   "source": [
    "f.read()"
   ]
  },
  {
   "cell_type": "code",
   "execution_count": 64,
   "id": "9f9ec15a",
   "metadata": {},
   "outputs": [
    {
     "data": {
      "text/plain": [
       "50"
      ]
     },
     "execution_count": 64,
     "metadata": {},
     "output_type": "execute_result"
    }
   ],
   "source": [
    "f.seek(50)"
   ]
  },
  {
   "cell_type": "code",
   "execution_count": 65,
   "id": "6516c57d",
   "metadata": {},
   "outputs": [
    {
     "data": {
      "text/plain": [
       "'different way.\\nThis is my python program to write into a file in different way.\\nThis is my python program to write into a file in different way\\nThis is my python program to write into a file in different way\\nThis is my python program to write into a file in different way\\nThis is my python program to write into a file in different way\\nThis is my python program to write into a file in different way\\n'"
      ]
     },
     "execution_count": 65,
     "metadata": {},
     "output_type": "execute_result"
    }
   ],
   "source": [
    "f.read()"
   ]
  },
  {
   "cell_type": "code",
   "execution_count": 67,
   "id": "732842d2",
   "metadata": {},
   "outputs": [],
   "source": [
    "f1 = open('test5.txt')"
   ]
  },
  {
   "cell_type": "code",
   "execution_count": 68,
   "id": "ccaf96fe",
   "metadata": {},
   "outputs": [
    {
     "data": {
      "text/plain": [
       "0"
      ]
     },
     "execution_count": 68,
     "metadata": {},
     "output_type": "execute_result"
    }
   ],
   "source": [
    "f1.tell()"
   ]
  },
  {
   "cell_type": "code",
   "execution_count": 69,
   "id": "ba1b396e",
   "metadata": {},
   "outputs": [
    {
     "data": {
      "text/plain": [
       "'This is my python program to write into a file in different way.\\nThis is my python program to write into a file in different way.\\nThis is my python program to write into a file in different way\\nThis is my python program to write into a file in different way\\nThis is my python program to write into a file in different way\\nThis is my python program to write into a file in different way\\nThis is my python program to write into a file in different way\\n'"
      ]
     },
     "execution_count": 69,
     "metadata": {},
     "output_type": "execute_result"
    }
   ],
   "source": [
    "f1.read()"
   ]
  },
  {
   "cell_type": "code",
   "execution_count": 70,
   "id": "a206f7f0",
   "metadata": {},
   "outputs": [
    {
     "data": {
      "text/plain": [
       "450"
      ]
     },
     "execution_count": 70,
     "metadata": {},
     "output_type": "execute_result"
    }
   ],
   "source": [
    "f1.tell()"
   ]
  },
  {
   "cell_type": "code",
   "execution_count": 71,
   "id": "2794238d",
   "metadata": {},
   "outputs": [
    {
     "data": {
      "text/plain": [
       "100"
      ]
     },
     "execution_count": 71,
     "metadata": {},
     "output_type": "execute_result"
    }
   ],
   "source": [
    "f1.seek(100)"
   ]
  },
  {
   "cell_type": "code",
   "execution_count": 72,
   "id": "d5573f4b",
   "metadata": {},
   "outputs": [
    {
     "data": {
      "text/plain": [
       "100"
      ]
     },
     "execution_count": 72,
     "metadata": {},
     "output_type": "execute_result"
    }
   ],
   "source": [
    "f1.tell()"
   ]
  },
  {
   "cell_type": "code",
   "execution_count": 73,
   "id": "0042daf3",
   "metadata": {},
   "outputs": [
    {
     "data": {
      "text/plain": [
       "'This is my python program to write into a file in different way.\\nThis is my python program to write into a file in different way.\\nThis is my python program to write into a file in different way\\nThis is my python program to write into a file in different way\\nThis is my python program to write into a file in different way\\nThis is my python program to write into a file in different way\\nThis is my python program to write into a file in different way\\n'"
      ]
     },
     "execution_count": 73,
     "metadata": {},
     "output_type": "execute_result"
    }
   ],
   "source": [
    "f.read()"
   ]
  },
  {
   "cell_type": "code",
   "execution_count": 74,
   "id": "00665c65",
   "metadata": {},
   "outputs": [
    {
     "data": {
      "text/plain": [
       "450"
      ]
     },
     "execution_count": 74,
     "metadata": {},
     "output_type": "execute_result"
    }
   ],
   "source": [
    "f.tell()"
   ]
  },
  {
   "cell_type": "code",
   "execution_count": 85,
   "id": "daa76d20",
   "metadata": {},
   "outputs": [
    {
     "data": {
      "text/plain": [
       "5"
      ]
     },
     "execution_count": 85,
     "metadata": {},
     "output_type": "execute_result"
    }
   ],
   "source": [
    "f.seek(5)"
   ]
  },
  {
   "cell_type": "code",
   "execution_count": 86,
   "id": "fac040e6",
   "metadata": {},
   "outputs": [
    {
     "data": {
      "text/plain": [
       "5"
      ]
     },
     "execution_count": 86,
     "metadata": {},
     "output_type": "execute_result"
    }
   ],
   "source": [
    "f.tell()"
   ]
  },
  {
   "cell_type": "code",
   "execution_count": 87,
   "id": "af1a3c77",
   "metadata": {},
   "outputs": [
    {
     "data": {
      "text/plain": [
       "'is my python program to write into a fil'"
      ]
     },
     "execution_count": 87,
     "metadata": {},
     "output_type": "execute_result"
    }
   ],
   "source": [
    "f.read(40) # here it will read the data from 5 to 40 location."
   ]
  },
  {
   "cell_type": "code",
   "execution_count": 92,
   "id": "6b52790e",
   "metadata": {},
   "outputs": [
    {
     "data": {
      "text/plain": [
       "0"
      ]
     },
     "execution_count": 92,
     "metadata": {},
     "output_type": "execute_result"
    }
   ],
   "source": [
    "f.seek(0)"
   ]
  },
  {
   "cell_type": "code",
   "execution_count": 93,
   "id": "3b85ca8a",
   "metadata": {},
   "outputs": [
    {
     "data": {
      "text/plain": [
       "'This is my python program to write into a file in different way.\\n'"
      ]
     },
     "execution_count": 93,
     "metadata": {},
     "output_type": "execute_result"
    }
   ],
   "source": [
    "f.readline() # It reads only one line in the file"
   ]
  },
  {
   "cell_type": "code",
   "execution_count": 94,
   "id": "131e67ae",
   "metadata": {},
   "outputs": [
    {
     "data": {
      "text/plain": [
       "['This is my python program to write into a file in different way.\\n',\n",
       " 'This is my python program to write into a file in different way\\n',\n",
       " 'This is my python program to write into a file in different way\\n',\n",
       " 'This is my python program to write into a file in different way\\n',\n",
       " 'This is my python program to write into a file in different way\\n',\n",
       " 'This is my python program to write into a file in different way\\n']"
      ]
     },
     "execution_count": 94,
     "metadata": {},
     "output_type": "execute_result"
    }
   ],
   "source": [
    "f.readlines() # reads all the lines. it reads the data line by line and gives the o/p in list format."
   ]
  },
  {
   "cell_type": "code",
   "execution_count": 95,
   "id": "88c640c6",
   "metadata": {},
   "outputs": [
    {
     "data": {
      "text/plain": [
       "<_io.TextIOWrapper name='test5.txt' mode='r' encoding='UTF-8'>"
      ]
     },
     "execution_count": 95,
     "metadata": {},
     "output_type": "execute_result"
    }
   ],
   "source": [
    "f"
   ]
  },
  {
   "cell_type": "code",
   "execution_count": 97,
   "id": "557dd0dc",
   "metadata": {},
   "outputs": [
    {
     "data": {
      "text/plain": [
       "87"
      ]
     },
     "execution_count": 97,
     "metadata": {},
     "output_type": "execute_result"
    }
   ],
   "source": [
    "f.fileno() # gives the file no. in Ram"
   ]
  },
  {
   "cell_type": "code",
   "execution_count": 98,
   "id": "ebcfdc82",
   "metadata": {},
   "outputs": [],
   "source": [
    "f = open(\"test.txt\", 'w')"
   ]
  },
  {
   "cell_type": "code",
   "execution_count": 99,
   "id": "308b8503",
   "metadata": {},
   "outputs": [
    {
     "data": {
      "text/plain": [
       "410"
      ]
     },
     "execution_count": 99,
     "metadata": {},
     "output_type": "execute_result"
    }
   ],
   "source": [
    "f.write('''This is my python program to write into a file in different way.\\n',\n",
    " 'This is my python program to write into a file in different way\\n',\n",
    " 'This is my python program to write into a file in different way\\n',\n",
    " 'This is my python program to write into a file in different way\\n',\n",
    " 'This is my python program to write into a file in different way\\n',\n",
    " 'This is my python program to write into a file in different way\\n''')"
   ]
  },
  {
   "cell_type": "code",
   "execution_count": 100,
   "id": "f9b33adf",
   "metadata": {},
   "outputs": [],
   "source": [
    "f.close()"
   ]
  },
  {
   "cell_type": "code",
   "execution_count": 111,
   "id": "c1cc8b77",
   "metadata": {},
   "outputs": [],
   "source": [
    "f = open(\"test.txt\", 'w')"
   ]
  },
  {
   "cell_type": "code",
   "execution_count": 112,
   "id": "6bfa238e",
   "metadata": {},
   "outputs": [
    {
     "data": {
      "text/plain": [
       "54"
      ]
     },
     "execution_count": 112,
     "metadata": {},
     "output_type": "execute_result"
    }
   ],
   "source": [
    "f.write(\"sdjnf kwjfaw fwdiha wdvedhv eodihqweoruhov iuahfo weov\")"
   ]
  },
  {
   "cell_type": "code",
   "execution_count": 113,
   "id": "5116ce53",
   "metadata": {},
   "outputs": [],
   "source": [
    "f.close() # once we open the file we can see that previous data set is gone\n",
    "# it has overwritten the previous data\n"
   ]
  },
  {
   "cell_type": "code",
   "execution_count": 121,
   "id": "513f0daa",
   "metadata": {},
   "outputs": [],
   "source": [
    "# perform append operation over file since I don't want to lose previos data\n",
    "f = open(\"test.txt\", 'a') # a means append mode"
   ]
  },
  {
   "cell_type": "code",
   "execution_count": 122,
   "id": "85731663",
   "metadata": {},
   "outputs": [
    {
     "data": {
      "text/plain": [
       "65"
      ]
     },
     "execution_count": 122,
     "metadata": {},
     "output_type": "execute_result"
    }
   ],
   "source": [
    "f.write(\" Hello guys how are you? hope you are enjoying learnoing python.]\")"
   ]
  },
  {
   "cell_type": "code",
   "execution_count": 123,
   "id": "414fd331",
   "metadata": {},
   "outputs": [],
   "source": [
    "f.close()"
   ]
  },
  {
   "cell_type": "code",
   "execution_count": 124,
   "id": "312957b0",
   "metadata": {},
   "outputs": [
    {
     "data": {
      "text/plain": [
       "'test.txt'"
      ]
     },
     "execution_count": 124,
     "metadata": {},
     "output_type": "execute_result"
    }
   ],
   "source": [
    "f.name"
   ]
  },
  {
   "cell_type": "code",
   "execution_count": 126,
   "id": "8b3931b5",
   "metadata": {},
   "outputs": [
    {
     "data": {
      "text/plain": [
       "True"
      ]
     },
     "execution_count": 126,
     "metadata": {},
     "output_type": "execute_result"
    }
   ],
   "source": [
    "f.closed"
   ]
  },
  {
   "cell_type": "code",
   "execution_count": 127,
   "id": "c9f26cdc",
   "metadata": {},
   "outputs": [
    {
     "data": {
      "text/plain": [
       "'a'"
      ]
     },
     "execution_count": 127,
     "metadata": {},
     "output_type": "execute_result"
    }
   ],
   "source": [
    "f.mode"
   ]
  },
  {
   "cell_type": "markdown",
   "id": "4bc335e7",
   "metadata": {},
   "source": [
    "# a+ mode --> append and create a new if file is not available\n",
    "r+ -> It will open the file in both read and write mode If file ia not available means it will throw error\n",
    "w+ -> It will open the file in both read and write mode If file ia not available then it will create new."
   ]
  },
  {
   "cell_type": "code",
   "execution_count": 135,
   "id": "dec93715",
   "metadata": {},
   "outputs": [],
   "source": [
    "d = ('Downloads/test.txt', 'w') # it will create a file in d drive"
   ]
  },
  {
   "cell_type": "markdown",
   "id": "d67f5ada",
   "metadata": {},
   "source": [
    "# map, reduce and filter function"
   ]
  },
  {
   "cell_type": "code",
   "execution_count": 12,
   "id": "df1c9091",
   "metadata": {},
   "outputs": [],
   "source": [
    "l = [2,3,4,5,6]"
   ]
  },
  {
   "cell_type": "code",
   "execution_count": 13,
   "id": "eeb46ce4",
   "metadata": {},
   "outputs": [],
   "source": [
    "\n",
    "    l1 = []\n",
    "    for i in l:\n",
    "        l1.append(i**2)"
   ]
  },
  {
   "cell_type": "code",
   "execution_count": 14,
   "id": "3fd8f258",
   "metadata": {},
   "outputs": [
    {
     "data": {
      "text/plain": [
       "[4, 9, 16, 25, 36]"
      ]
     },
     "execution_count": 14,
     "metadata": {},
     "output_type": "execute_result"
    }
   ],
   "source": [
    "l1"
   ]
  },
  {
   "cell_type": "code",
   "execution_count": 15,
   "id": "cba3e271",
   "metadata": {},
   "outputs": [
    {
     "data": {
      "text/plain": [
       "[4, 9, 16, 25, 36]"
      ]
     },
     "execution_count": 15,
     "metadata": {},
     "output_type": "execute_result"
    }
   ],
   "source": [
    "[i**2 for i in l]"
   ]
  },
  {
   "cell_type": "code",
   "execution_count": 16,
   "id": "0485146c",
   "metadata": {},
   "outputs": [],
   "source": [
    "def sq(n):\n",
    "    return n**2"
   ]
  },
  {
   "cell_type": "code",
   "execution_count": 17,
   "id": "cf751b26",
   "metadata": {},
   "outputs": [
    {
     "data": {
      "text/plain": [
       "<map at 0x7fbdc591d220>"
      ]
     },
     "execution_count": 17,
     "metadata": {},
     "output_type": "execute_result"
    }
   ],
   "source": [
    "map(sq,l)"
   ]
  },
  {
   "cell_type": "code",
   "execution_count": 18,
   "id": "869a5a94",
   "metadata": {},
   "outputs": [
    {
     "data": {
      "text/plain": [
       "[4, 9, 16, 25, 36]"
      ]
     },
     "execution_count": 18,
     "metadata": {},
     "output_type": "execute_result"
    }
   ],
   "source": [
    "list(map(sq,l))"
   ]
  },
  {
   "cell_type": "code",
   "execution_count": 19,
   "id": "c514a454",
   "metadata": {},
   "outputs": [
    {
     "data": {
      "text/plain": [
       "[4, 9, 16, 25, 36]"
      ]
     },
     "execution_count": 19,
     "metadata": {},
     "output_type": "execute_result"
    }
   ],
   "source": [
    "list(map(lambda x : x**2, l))"
   ]
  },
  {
   "cell_type": "code",
   "execution_count": 20,
   "id": "2d5981f9",
   "metadata": {},
   "outputs": [
    {
     "data": {
      "text/plain": [
       "['2', '3', '4', '5', '6']"
      ]
     },
     "execution_count": 20,
     "metadata": {},
     "output_type": "execute_result"
    }
   ],
   "source": [
    "# convert each element of list into string\n",
    "list(map(lambda x:str(x),l))"
   ]
  },
  {
   "cell_type": "code",
   "execution_count": 21,
   "id": "45d8d4d5",
   "metadata": {},
   "outputs": [
    {
     "data": {
      "text/plain": [
       "[2, 3, 4, 5, 6]"
      ]
     },
     "execution_count": 21,
     "metadata": {},
     "output_type": "execute_result"
    }
   ],
   "source": [
    "l"
   ]
  },
  {
   "cell_type": "code",
   "execution_count": 30,
   "id": "e573f527",
   "metadata": {},
   "outputs": [
    {
     "data": {
      "text/plain": [
       "['2', '3', '4', '5', '6']"
      ]
     },
     "execution_count": 30,
     "metadata": {},
     "output_type": "execute_result"
    }
   ],
   "source": [
    "list(map(lambda x:str(x),l)) # change list element into str"
   ]
  },
  {
   "cell_type": "code",
   "execution_count": 31,
   "id": "1632c3cb",
   "metadata": {},
   "outputs": [],
   "source": [
    "# write a function to change the list element into string\n",
    "def str_c(n):\n",
    "    return(str(n))"
   ]
  },
  {
   "cell_type": "code",
   "execution_count": 33,
   "id": "a7b6ad28",
   "metadata": {},
   "outputs": [
    {
     "data": {
      "text/plain": [
       "['2', '3', '4', '5', '6']"
      ]
     },
     "execution_count": 33,
     "metadata": {},
     "output_type": "execute_result"
    }
   ],
   "source": [
    "list(map(str_c,l))"
   ]
  },
  {
   "cell_type": "code",
   "execution_count": 34,
   "id": "aa20bcf8",
   "metadata": {},
   "outputs": [
    {
     "data": {
      "text/plain": [
       "['2', '3', '4', '5', '6']"
      ]
     },
     "execution_count": 34,
     "metadata": {},
     "output_type": "execute_result"
    }
   ],
   "source": [
    "list(map(str , l))"
   ]
  },
  {
   "cell_type": "code",
   "execution_count": 35,
   "id": "8972e37f",
   "metadata": {},
   "outputs": [],
   "source": [
    "# Reduce Function\n",
    "# for this first you need to import it inside your system.\n",
    "# Write a code to do the sum of all the element in list\n",
    "l = [3,4,5,6,7,8]"
   ]
  },
  {
   "cell_type": "code",
   "execution_count": 41,
   "id": "5265c67b",
   "metadata": {},
   "outputs": [
    {
     "data": {
      "text/plain": [
       "33"
      ]
     },
     "execution_count": 41,
     "metadata": {},
     "output_type": "execute_result"
    }
   ],
   "source": [
    "sum(l)"
   ]
  },
  {
   "cell_type": "code",
   "execution_count": 43,
   "id": "8c98d991",
   "metadata": {},
   "outputs": [],
   "source": [
    "# first import reduce \n",
    "from functools import reduce"
   ]
  },
  {
   "cell_type": "code",
   "execution_count": 44,
   "id": "be584895",
   "metadata": {},
   "outputs": [
    {
     "data": {
      "text/plain": [
       "33"
      ]
     },
     "execution_count": 44,
     "metadata": {},
     "output_type": "execute_result"
    }
   ],
   "source": [
    "reduce(lambda a,b: a+b,l) # reduce function always try to accumulate or aggregate operation on any seq. we have passed.\n"
   ]
  },
  {
   "cell_type": "code",
   "execution_count": 45,
   "id": "61b2cacc",
   "metadata": {},
   "outputs": [
    {
     "data": {
      "text/plain": [
       "20160"
      ]
     },
     "execution_count": 45,
     "metadata": {},
     "output_type": "execute_result"
    }
   ],
   "source": [
    "# do the multiplication using reduce() function\n",
    "reduce(lambda a,b: a*b, l)"
   ]
  },
  {
   "cell_type": "code",
   "execution_count": 46,
   "id": "840078dc",
   "metadata": {},
   "outputs": [
    {
     "ename": "TypeError",
     "evalue": "<lambda>() missing 1 required positional argument: 'c'",
     "output_type": "error",
     "traceback": [
      "\u001b[0;31m---------------------------------------------------------------------------\u001b[0m",
      "\u001b[0;31mTypeError\u001b[0m                                 Traceback (most recent call last)",
      "Input \u001b[0;32mIn [46]\u001b[0m, in \u001b[0;36m<cell line: 1>\u001b[0;34m()\u001b[0m\n\u001b[0;32m----> 1\u001b[0m \u001b[43mreduce\u001b[49m\u001b[43m(\u001b[49m\u001b[38;5;28;43;01mlambda\u001b[39;49;00m\u001b[43m \u001b[49m\u001b[43ma\u001b[49m\u001b[43m,\u001b[49m\u001b[43mb\u001b[49m\u001b[43m,\u001b[49m\u001b[43mc\u001b[49m\u001b[43m:\u001b[49m\u001b[43m \u001b[49m\u001b[43ma\u001b[49m\u001b[38;5;241;43m*\u001b[39;49m\u001b[43mb\u001b[49m\u001b[38;5;241;43m*\u001b[39;49m\u001b[43mc\u001b[49m\u001b[43m,\u001b[49m\u001b[43m \u001b[49m\u001b[43ml\u001b[49m\u001b[43m)\u001b[49m\n",
      "\u001b[0;31mTypeError\u001b[0m: <lambda>() missing 1 required positional argument: 'c'"
     ]
    }
   ],
   "source": [
    "reduce(lambda a,b,c: a*b*c, l)  why is it not working?\n"
   ]
  },
  {
   "cell_type": "code",
   "execution_count": 47,
   "id": "614efdda",
   "metadata": {},
   "outputs": [],
   "source": [
    "l1 = [3,4,5,6,7,8,4]"
   ]
  },
  {
   "cell_type": "code",
   "execution_count": 48,
   "id": "93ec08d8",
   "metadata": {},
   "outputs": [
    {
     "ename": "TypeError",
     "evalue": "<lambda>() missing 1 required positional argument: 'c'",
     "output_type": "error",
     "traceback": [
      "\u001b[0;31m---------------------------------------------------------------------------\u001b[0m",
      "\u001b[0;31mTypeError\u001b[0m                                 Traceback (most recent call last)",
      "Input \u001b[0;32mIn [48]\u001b[0m, in \u001b[0;36m<cell line: 1>\u001b[0;34m()\u001b[0m\n\u001b[0;32m----> 1\u001b[0m \u001b[43mreduce\u001b[49m\u001b[43m(\u001b[49m\u001b[38;5;28;43;01mlambda\u001b[39;49;00m\u001b[43m \u001b[49m\u001b[43ma\u001b[49m\u001b[43m,\u001b[49m\u001b[43mb\u001b[49m\u001b[43m,\u001b[49m\u001b[43mc\u001b[49m\u001b[43m:\u001b[49m\u001b[43m \u001b[49m\u001b[43ma\u001b[49m\u001b[38;5;241;43m*\u001b[39;49m\u001b[43mb\u001b[49m\u001b[38;5;241;43m*\u001b[39;49m\u001b[43mc\u001b[49m\u001b[43m,\u001b[49m\u001b[43m \u001b[49m\u001b[43ml1\u001b[49m\u001b[43m)\u001b[49m\n",
      "\u001b[0;31mTypeError\u001b[0m: <lambda>() missing 1 required positional argument: 'c'"
     ]
    }
   ],
   "source": [
    "reduce(lambda a,b,c: a*b*c, l1)"
   ]
  },
  {
   "cell_type": "code",
   "execution_count": 49,
   "id": "940db5c4",
   "metadata": {},
   "outputs": [],
   "source": [
    "l2 = [9]"
   ]
  },
  {
   "cell_type": "code",
   "execution_count": 51,
   "id": "848552c2",
   "metadata": {},
   "outputs": [
    {
     "data": {
      "text/plain": [
       "9"
      ]
     },
     "execution_count": 51,
     "metadata": {},
     "output_type": "execute_result"
    }
   ],
   "source": [
    "reduce(lambda a,b: a*b, l2) # this is the exception and irt works for one no."
   ]
  },
  {
   "cell_type": "code",
   "execution_count": 52,
   "id": "3b6d2b83",
   "metadata": {},
   "outputs": [],
   "source": [
    "# filter function"
   ]
  },
  {
   "cell_type": "code",
   "execution_count": 53,
   "id": "991b9f81",
   "metadata": {},
   "outputs": [],
   "source": [
    "l4 = [1,2,3,4,5]"
   ]
  },
  {
   "cell_type": "code",
   "execution_count": 54,
   "id": "a07b4493",
   "metadata": {},
   "outputs": [
    {
     "name": "stdout",
     "output_type": "stream",
     "text": [
      "2\n",
      "4\n"
     ]
    }
   ],
   "source": [
    "for i in l4:,\n",
    "    if i%2 == 0:\n",
    "        print(i)"
   ]
  },
  {
   "cell_type": "code",
   "execution_count": 57,
   "id": "ad5c7259",
   "metadata": {},
   "outputs": [
    {
     "data": {
      "text/plain": [
       "[2, 4]"
      ]
     },
     "execution_count": 57,
     "metadata": {},
     "output_type": "execute_result"
    }
   ],
   "source": [
    "list(filter(lambda x: x%2 == 0, l4))"
   ]
  },
  {
   "cell_type": "code",
   "execution_count": 58,
   "id": "b4f52a47",
   "metadata": {},
   "outputs": [],
   "source": [
    "def check_even():\n",
    "    if n%2 == 0:\n",
    "        return True\n",
    "    "
   ]
  },
  {
   "cell_type": "code",
   "execution_count": 59,
   "id": "8170e849",
   "metadata": {},
   "outputs": [
    {
     "data": {
      "text/plain": [
       "[2, 4]"
      ]
     },
     "execution_count": 59,
     "metadata": {},
     "output_type": "execute_result"
    }
   ],
   "source": [
    "list(filter(lambda x: x%2 == 0, l4))"
   ]
  },
  {
   "cell_type": "code",
   "execution_count": null,
   "id": "30f063b0",
   "metadata": {},
   "outputs": [],
   "source": []
  }
 ],
 "metadata": {
  "kernelspec": {
   "display_name": "Python 3 (ipykernel)",
   "language": "python",
   "name": "python3"
  },
  "language_info": {
   "codemirror_mode": {
    "name": "ipython",
    "version": 3
   },
   "file_extension": ".py",
   "mimetype": "text/x-python",
   "name": "python",
   "nbconvert_exporter": "python",
   "pygments_lexer": "ipython3",
   "version": "3.9.12"
  }
 },
 "nbformat": 4,
 "nbformat_minor": 5
}
