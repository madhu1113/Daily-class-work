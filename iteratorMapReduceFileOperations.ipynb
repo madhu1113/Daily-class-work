{
 "cells": [
  {
   "cell_type": "code",
   "execution_count": 1,
   "id": "72a54005",
   "metadata": {},
   "outputs": [],
   "source": [
    "l = [1,2,3,4,5]"
   ]
  },
  {
   "cell_type": "code",
   "execution_count": 2,
   "id": "b5fd1fce",
   "metadata": {},
   "outputs": [
    {
     "name": "stdout",
     "output_type": "stream",
     "text": [
      "1\n",
      "2\n",
      "3\n",
      "4\n",
      "5\n"
     ]
    }
   ],
   "source": [
    "for i in l:\n",
    "    print(i)"
   ]
  },
  {
   "cell_type": "code",
   "execution_count": 3,
   "id": "227db2c6",
   "metadata": {},
   "outputs": [
    {
     "ename": "TypeError",
     "evalue": "'list' object is not an iterator",
     "output_type": "error",
     "traceback": [
      "\u001b[0;31m---------------------------------------------------------------------------\u001b[0m",
      "\u001b[0;31mTypeError\u001b[0m                                 Traceback (most recent call last)",
      "Input \u001b[0;32mIn [3]\u001b[0m, in \u001b[0;36m<cell line: 1>\u001b[0;34m()\u001b[0m\n\u001b[0;32m----> 1\u001b[0m \u001b[38;5;28;43mnext\u001b[39;49m\u001b[43m(\u001b[49m\u001b[43ml\u001b[49m\u001b[43m)\u001b[49m\n",
      "\u001b[0;31mTypeError\u001b[0m: 'list' object is not an iterator"
     ]
    }
   ],
   "source": [
    "next(l)"
   ]
  },
  {
   "cell_type": "code",
   "execution_count": 6,
   "id": "0f0f7448",
   "metadata": {},
   "outputs": [],
   "source": [
    "b = iter(l)"
   ]
  },
  {
   "cell_type": "code",
   "execution_count": 7,
   "id": "18c04cbb",
   "metadata": {},
   "outputs": [
    {
     "data": {
      "text/plain": [
       "1"
      ]
     },
     "execution_count": 7,
     "metadata": {},
     "output_type": "execute_result"
    }
   ],
   "source": [
    "next(b)"
   ]
  },
  {
   "cell_type": "code",
   "execution_count": 8,
   "id": "45e0afca",
   "metadata": {},
   "outputs": [
    {
     "data": {
      "text/plain": [
       "2"
      ]
     },
     "execution_count": 8,
     "metadata": {},
     "output_type": "execute_result"
    }
   ],
   "source": [
    "next(b)"
   ]
  },
  {
   "cell_type": "code",
   "execution_count": 11,
   "id": "469c2240",
   "metadata": {},
   "outputs": [
    {
     "data": {
      "text/plain": [
       "4"
      ]
     },
     "execution_count": 11,
     "metadata": {},
     "output_type": "execute_result"
    }
   ],
   "source": [
    "next(b)"
   ]
  },
  {
   "cell_type": "code",
   "execution_count": 12,
   "id": "1e32fc1b",
   "metadata": {},
   "outputs": [
    {
     "data": {
      "text/plain": [
       "5"
      ]
     },
     "execution_count": 12,
     "metadata": {},
     "output_type": "execute_result"
    }
   ],
   "source": [
    "next(b)"
   ]
  },
  {
   "cell_type": "code",
   "execution_count": 13,
   "id": "2b6cd261",
   "metadata": {},
   "outputs": [
    {
     "ename": "StopIteration",
     "evalue": "",
     "output_type": "error",
     "traceback": [
      "\u001b[0;31m---------------------------------------------------------------------------\u001b[0m",
      "\u001b[0;31mStopIteration\u001b[0m                             Traceback (most recent call last)",
      "Input \u001b[0;32mIn [13]\u001b[0m, in \u001b[0;36m<cell line: 1>\u001b[0;34m()\u001b[0m\n\u001b[0;32m----> 1\u001b[0m \u001b[38;5;28;43mnext\u001b[39;49m\u001b[43m(\u001b[49m\u001b[43mb\u001b[49m\u001b[43m)\u001b[49m\n",
      "\u001b[0;31mStopIteration\u001b[0m: "
     ]
    }
   ],
   "source": [
    "next(b)"
   ]
  },
  {
   "cell_type": "markdown",
   "id": "0d6c03b8",
   "metadata": {},
   "source": [
    "# Two terms we are supposed to know 1. iterable 2. iterator"
   ]
  },
  {
   "cell_type": "markdown",
   "id": "0eed1e4d",
   "metadata": {},
   "source": [
    "How for loop executes?"
   ]
  },
  {
   "cell_type": "code",
   "execution_count": 14,
   "id": "bc4241f0",
   "metadata": {},
   "outputs": [
    {
     "ename": "TypeError",
     "evalue": "'int' object is not an iterator",
     "output_type": "error",
     "traceback": [
      "\u001b[0;31m---------------------------------------------------------------------------\u001b[0m",
      "\u001b[0;31mTypeError\u001b[0m                                 Traceback (most recent call last)",
      "Input \u001b[0;32mIn [14]\u001b[0m, in \u001b[0;36m<cell line: 1>\u001b[0;34m()\u001b[0m\n\u001b[0;32m----> 1\u001b[0m \u001b[38;5;28;43mnext\u001b[39;49m\u001b[43m(\u001b[49m\u001b[38;5;241;43m45\u001b[39;49m\u001b[43m)\u001b[49m\n",
      "\u001b[0;31mTypeError\u001b[0m: 'int' object is not an iterator"
     ]
    }
   ],
   "source": [
    "next(45)"
   ]
  },
  {
   "cell_type": "code",
   "execution_count": 15,
   "id": "54180da0",
   "metadata": {},
   "outputs": [
    {
     "ename": "TypeError",
     "evalue": "'int' object is not iterable",
     "output_type": "error",
     "traceback": [
      "\u001b[0;31m---------------------------------------------------------------------------\u001b[0m",
      "\u001b[0;31mTypeError\u001b[0m                                 Traceback (most recent call last)",
      "Input \u001b[0;32mIn [15]\u001b[0m, in \u001b[0;36m<cell line: 1>\u001b[0;34m()\u001b[0m\n\u001b[0;32m----> 1\u001b[0m \u001b[38;5;28;43miter\u001b[39;49m\u001b[43m(\u001b[49m\u001b[38;5;241;43m45\u001b[39;49m\u001b[43m)\u001b[49m\n",
      "\u001b[0;31mTypeError\u001b[0m: 'int' object is not iterable"
     ]
    }
   ],
   "source": [
    "iter(45)"
   ]
  },
  {
   "cell_type": "markdown",
   "id": "f1f22640",
   "metadata": {},
   "source": [
    "Object or Data set which is iterable we can convert it into iterator.\n",
    "data which is not iterable like intger we can't convert it into interator\n",
    "for loop calls iter() function and convert each and every function into iterator and after that by using next() function it iterate through the data set and extract the data one by one."
   ]
  },
  {
   "cell_type": "code",
   "execution_count": 16,
   "id": "3efc37bb",
   "metadata": {},
   "outputs": [
    {
     "ename": "TypeError",
     "evalue": "'int' object is not iterable",
     "output_type": "error",
     "traceback": [
      "\u001b[0;31m---------------------------------------------------------------------------\u001b[0m",
      "\u001b[0;31mTypeError\u001b[0m                                 Traceback (most recent call last)",
      "Input \u001b[0;32mIn [16]\u001b[0m, in \u001b[0;36m<cell line: 1>\u001b[0;34m()\u001b[0m\n\u001b[0;32m----> 1\u001b[0m \u001b[38;5;28;01mfor\u001b[39;00m i \u001b[38;5;129;01min\u001b[39;00m \u001b[38;5;241m49875\u001b[39m:\n\u001b[1;32m      2\u001b[0m     \u001b[38;5;28mprint\u001b[39m(i)\n",
      "\u001b[0;31mTypeError\u001b[0m: 'int' object is not iterable"
     ]
    }
   ],
   "source": [
    "for i in 49875:\n",
    "    print(i)"
   ]
  },
  {
   "cell_type": "markdown",
   "id": "92027af1",
   "metadata": {},
   "source": [
    "# How for loop works?\n",
    "if object is iterable the for loop converts the object into iterator\n",
    "and after that by call next() function multiple times and fetch the data."
   ]
  },
  {
   "cell_type": "code",
   "execution_count": 18,
   "id": "ec3532e1",
   "metadata": {},
   "outputs": [
    {
     "name": "stdout",
     "output_type": "stream",
     "text": [
      "m\n",
      "a\n",
      "d\n",
      "h\n",
      "u\n"
     ]
    }
   ],
   "source": [
    "for i in \"madhu\": \n",
    "    print(i)"
   ]
  },
  {
   "cell_type": "markdown",
   "id": "906f7f33",
   "metadata": {},
   "source": [
    "# By default list object is iterable but not iterator. "
   ]
  },
  {
   "cell_type": "code",
   "execution_count": 22,
   "id": "f22f8aef",
   "metadata": {},
   "outputs": [],
   "source": [
    "m = \"Madhu\""
   ]
  },
  {
   "cell_type": "code",
   "execution_count": 23,
   "id": "712fe406",
   "metadata": {},
   "outputs": [
    {
     "ename": "TypeError",
     "evalue": "'str' object is not an iterator",
     "output_type": "error",
     "traceback": [
      "\u001b[0;31m---------------------------------------------------------------------------\u001b[0m",
      "\u001b[0;31mTypeError\u001b[0m                                 Traceback (most recent call last)",
      "Input \u001b[0;32mIn [23]\u001b[0m, in \u001b[0;36m<cell line: 1>\u001b[0;34m()\u001b[0m\n\u001b[0;32m----> 1\u001b[0m \u001b[38;5;28;43mnext\u001b[39;49m\u001b[43m(\u001b[49m\u001b[43mm\u001b[49m\u001b[43m)\u001b[49m\n",
      "\u001b[0;31mTypeError\u001b[0m: 'str' object is not an iterator"
     ]
    }
   ],
   "source": [
    "next(m)"
   ]
  },
  {
   "cell_type": "markdown",
   "id": "2165ac4f",
   "metadata": {},
   "source": [
    "# Y this error?\n",
    "because by default string is not iterator object it is iterable.\n",
    "so first we need to convert it into iterator using iter() funtion.\n",
    "after that we can iterate through it and fetch the data."
   ]
  },
  {
   "cell_type": "code",
   "execution_count": 26,
   "id": "3d318fdf",
   "metadata": {},
   "outputs": [],
   "source": [
    "a = iter(m)"
   ]
  },
  {
   "cell_type": "code",
   "execution_count": 27,
   "id": "0b89faa5",
   "metadata": {},
   "outputs": [
    {
     "data": {
      "text/plain": [
       "'M'"
      ]
     },
     "execution_count": 27,
     "metadata": {},
     "output_type": "execute_result"
    }
   ],
   "source": [
    "next(a)"
   ]
  },
  {
   "cell_type": "code",
   "execution_count": 28,
   "id": "96fbed3b",
   "metadata": {},
   "outputs": [
    {
     "data": {
      "text/plain": [
       "'a'"
      ]
     },
     "execution_count": 28,
     "metadata": {},
     "output_type": "execute_result"
    }
   ],
   "source": [
    "next(a)"
   ]
  },
  {
   "cell_type": "code",
   "execution_count": 29,
   "id": "cc407fcc",
   "metadata": {},
   "outputs": [
    {
     "data": {
      "text/plain": [
       "'d'"
      ]
     },
     "execution_count": 29,
     "metadata": {},
     "output_type": "execute_result"
    }
   ],
   "source": [
    "next(a)"
   ]
  },
  {
   "cell_type": "code",
   "execution_count": 30,
   "id": "b257cfb9",
   "metadata": {},
   "outputs": [
    {
     "data": {
      "text/plain": [
       "'h'"
      ]
     },
     "execution_count": 30,
     "metadata": {},
     "output_type": "execute_result"
    }
   ],
   "source": [
    "next(a)"
   ]
  },
  {
   "cell_type": "code",
   "execution_count": 31,
   "id": "145fed22",
   "metadata": {},
   "outputs": [
    {
     "data": {
      "text/plain": [
       "'u'"
      ]
     },
     "execution_count": 31,
     "metadata": {},
     "output_type": "execute_result"
    }
   ],
   "source": [
    "next(a)"
   ]
  },
  {
   "cell_type": "code",
   "execution_count": 32,
   "id": "baf3f09e",
   "metadata": {},
   "outputs": [
    {
     "ename": "StopIteration",
     "evalue": "",
     "output_type": "error",
     "traceback": [
      "\u001b[0;31m---------------------------------------------------------------------------\u001b[0m",
      "\u001b[0;31mStopIteration\u001b[0m                             Traceback (most recent call last)",
      "Input \u001b[0;32mIn [32]\u001b[0m, in \u001b[0;36m<cell line: 1>\u001b[0;34m()\u001b[0m\n\u001b[0;32m----> 1\u001b[0m \u001b[38;5;28;43mnext\u001b[39;49m\u001b[43m(\u001b[49m\u001b[43ma\u001b[49m\u001b[43m)\u001b[49m\n",
      "\u001b[0;31mStopIteration\u001b[0m: "
     ]
    }
   ],
   "source": [
    "next(a)"
   ]
  },
  {
   "cell_type": "markdown",
   "id": "001ccaf6",
   "metadata": {},
   "source": [
    "# for loop try to find out the entire length of iterable or iterator object. It knows when to stop?\n",
    "Hence for loop uses len() function, iter() function and next() function. \n",
    "This is how for loop works internally."
   ]
  },
  {
   "cell_type": "code",
   "execution_count": 33,
   "id": "32d26bef",
   "metadata": {},
   "outputs": [],
   "source": [
    "t = (3,4,5,6)"
   ]
  },
  {
   "cell_type": "code",
   "execution_count": 34,
   "id": "7fa80fed",
   "metadata": {},
   "outputs": [
    {
     "ename": "TypeError",
     "evalue": "'tuple' object is not an iterator",
     "output_type": "error",
     "traceback": [
      "\u001b[0;31m---------------------------------------------------------------------------\u001b[0m",
      "\u001b[0;31mTypeError\u001b[0m                                 Traceback (most recent call last)",
      "Input \u001b[0;32mIn [34]\u001b[0m, in \u001b[0;36m<cell line: 1>\u001b[0;34m()\u001b[0m\n\u001b[0;32m----> 1\u001b[0m \u001b[38;5;28;43mnext\u001b[39;49m\u001b[43m(\u001b[49m\u001b[43mt\u001b[49m\u001b[43m)\u001b[49m\n",
      "\u001b[0;31mTypeError\u001b[0m: 'tuple' object is not an iterator"
     ]
    }
   ],
   "source": [
    "next(t)"
   ]
  },
  {
   "cell_type": "code",
   "execution_count": 37,
   "id": "fe19a5c5",
   "metadata": {},
   "outputs": [],
   "source": [
    "b = iter(t)"
   ]
  },
  {
   "cell_type": "code",
   "execution_count": 38,
   "id": "811457b5",
   "metadata": {},
   "outputs": [
    {
     "data": {
      "text/plain": [
       "3"
      ]
     },
     "execution_count": 38,
     "metadata": {},
     "output_type": "execute_result"
    }
   ],
   "source": [
    "next(b)"
   ]
  },
  {
   "cell_type": "code",
   "execution_count": 39,
   "id": "788e2cee",
   "metadata": {},
   "outputs": [
    {
     "data": {
      "text/plain": [
       "4"
      ]
     },
     "execution_count": 39,
     "metadata": {},
     "output_type": "execute_result"
    }
   ],
   "source": [
    "next(b)"
   ]
  },
  {
   "cell_type": "code",
   "execution_count": 40,
   "id": "0d9ffa4c",
   "metadata": {},
   "outputs": [
    {
     "data": {
      "text/plain": [
       "5"
      ]
     },
     "execution_count": 40,
     "metadata": {},
     "output_type": "execute_result"
    }
   ],
   "source": [
    "next(b)"
   ]
  },
  {
   "cell_type": "code",
   "execution_count": 41,
   "id": "fd226c11",
   "metadata": {},
   "outputs": [
    {
     "data": {
      "text/plain": [
       "6"
      ]
     },
     "execution_count": 41,
     "metadata": {},
     "output_type": "execute_result"
    }
   ],
   "source": [
    "next(b)"
   ]
  },
  {
   "cell_type": "code",
   "execution_count": 42,
   "id": "58b382bf",
   "metadata": {},
   "outputs": [
    {
     "ename": "StopIteration",
     "evalue": "",
     "output_type": "error",
     "traceback": [
      "\u001b[0;31m---------------------------------------------------------------------------\u001b[0m",
      "\u001b[0;31mStopIteration\u001b[0m                             Traceback (most recent call last)",
      "Input \u001b[0;32mIn [42]\u001b[0m, in \u001b[0;36m<cell line: 1>\u001b[0;34m()\u001b[0m\n\u001b[0;32m----> 1\u001b[0m \u001b[38;5;28;43mnext\u001b[39;49m\u001b[43m(\u001b[49m\u001b[43mb\u001b[49m\u001b[43m)\u001b[49m\n",
      "\u001b[0;31mStopIteration\u001b[0m: "
     ]
    }
   ],
   "source": [
    "next(b)"
   ]
  },
  {
   "cell_type": "markdown",
   "id": "af022f43",
   "metadata": {},
   "source": [
    "we are actually not going to use it anywhere \n",
    "but you should know the implementation of for loop for interview purpose"
   ]
  },
  {
   "cell_type": "markdown",
   "id": "1f9c2e79",
   "metadata": {},
   "source": [
    "# generator function"
   ]
  },
  {
   "cell_type": "code",
   "execution_count": 43,
   "id": "4fdf2f15",
   "metadata": {},
   "outputs": [
    {
     "data": {
      "text/plain": [
       "range(1, 10)"
      ]
     },
     "execution_count": 43,
     "metadata": {},
     "output_type": "execute_result"
    }
   ],
   "source": [
    "range(1,10)"
   ]
  },
  {
   "cell_type": "code",
   "execution_count": 44,
   "id": "3a72e347",
   "metadata": {},
   "outputs": [
    {
     "data": {
      "text/plain": [
       "[1, 2, 3, 4, 5, 6, 7, 8, 9]"
      ]
     },
     "execution_count": 44,
     "metadata": {},
     "output_type": "execute_result"
    }
   ],
   "source": [
    "list(range(1,10)) # it generates data set for us"
   ]
  },
  {
   "cell_type": "code",
   "execution_count": 40,
   "id": "5e3b214d",
   "metadata": {},
   "outputs": [],
   "source": [
    "# write a function which will be able to generate square of data till n\n",
    "def square(n):\n",
    "    x = [i**2 for i in range(n)]\n",
    "    return x\n",
    "        "
   ]
  },
  {
   "cell_type": "code",
   "execution_count": 41,
   "id": "bd705179",
   "metadata": {},
   "outputs": [
    {
     "data": {
      "text/plain": [
       "[0, 1, 4, 9, 16, 25, 36, 49, 64, 81]"
      ]
     },
     "execution_count": 41,
     "metadata": {},
     "output_type": "execute_result"
    }
   ],
   "source": [
    "square(10)"
   ]
  },
  {
   "cell_type": "code",
   "execution_count": 42,
   "id": "ea2f943d",
   "metadata": {},
   "outputs": [],
   "source": [
    "b = lambda n: [i**2 for i in range(n)]"
   ]
  },
  {
   "cell_type": "code",
   "execution_count": 43,
   "id": "04d9774e",
   "metadata": {},
   "outputs": [
    {
     "data": {
      "text/plain": [
       "[0, 1, 4, 9, 16, 25, 36, 49, 64, 81]"
      ]
     },
     "execution_count": 43,
     "metadata": {},
     "output_type": "execute_result"
    }
   ],
   "source": [
    "b(10)"
   ]
  },
  {
   "cell_type": "code",
   "execution_count": 44,
   "id": "ca79fffa",
   "metadata": {},
   "outputs": [
    {
     "data": {
      "text/plain": [
       "range(0, 7)"
      ]
     },
     "execution_count": 44,
     "metadata": {},
     "output_type": "execute_result"
    }
   ],
   "source": [
    "range(7)"
   ]
  },
  {
   "cell_type": "code",
   "execution_count": 45,
   "id": "847badc0",
   "metadata": {},
   "outputs": [
    {
     "data": {
      "text/plain": [
       "[0, 1, 2, 3, 4, 5, 6]"
      ]
     },
     "execution_count": 45,
     "metadata": {},
     "output_type": "execute_result"
    }
   ],
   "source": [
    "list(range(7))"
   ]
  },
  {
   "cell_type": "code",
   "execution_count": 27,
   "id": "1d75e5cb",
   "metadata": {},
   "outputs": [],
   "source": [
    "def square1(n):\n",
    "    x =  [i**2 for i in range(n)]\n",
    "    yield x"
   ]
  },
  {
   "cell_type": "code",
   "execution_count": null,
   "id": "4a8b82a8",
   "metadata": {},
   "outputs": [],
   "source": []
  },
  {
   "cell_type": "code",
   "execution_count": 28,
   "id": "e866582d",
   "metadata": {},
   "outputs": [
    {
     "data": {
      "text/plain": [
       "<generator object square1 at 0x7fc05dec3430>"
      ]
     },
     "execution_count": 28,
     "metadata": {},
     "output_type": "execute_result"
    }
   ],
   "source": [
    "square1(10) "
   ]
  },
  {
   "cell_type": "markdown",
   "id": "c27dee60",
   "metadata": {},
   "source": [
    "# Generator function\n",
    "it is returning us an object, with the help of this function. we will be able to generate a data set at any point of time "
   ]
  },
  {
   "cell_type": "code",
   "execution_count": 29,
   "id": "a679728e",
   "metadata": {},
   "outputs": [
    {
     "name": "stdout",
     "output_type": "stream",
     "text": [
      "[0, 1, 4, 9]\n"
     ]
    }
   ],
   "source": [
    "for i in square1(4):\n",
    "    print(i)"
   ]
  },
  {
   "cell_type": "code",
   "execution_count": 30,
   "id": "dc9c21bf",
   "metadata": {},
   "outputs": [
    {
     "name": "stdout",
     "output_type": "stream",
     "text": [
      "0\n",
      "1\n",
      "2\n",
      "3\n"
     ]
    }
   ],
   "source": [
    "for i in range(4):\n",
    "    print(i)"
   ]
  },
  {
   "cell_type": "code",
   "execution_count": 31,
   "id": "0f67419c",
   "metadata": {},
   "outputs": [
    {
     "data": {
      "text/plain": [
       "[0, 1, 4, 9, 16]"
      ]
     },
     "execution_count": 31,
     "metadata": {},
     "output_type": "execute_result"
    }
   ],
   "source": [
    "next(square1(5))"
   ]
  },
  {
   "cell_type": "code",
   "execution_count": 32,
   "id": "18aa6a89",
   "metadata": {},
   "outputs": [
    {
     "ename": "TypeError",
     "evalue": "'range' object is not an iterator",
     "output_type": "error",
     "traceback": [
      "\u001b[0;31m---------------------------------------------------------------------------\u001b[0m",
      "\u001b[0;31mTypeError\u001b[0m                                 Traceback (most recent call last)",
      "Input \u001b[0;32mIn [32]\u001b[0m, in \u001b[0;36m<cell line: 1>\u001b[0;34m()\u001b[0m\n\u001b[0;32m----> 1\u001b[0m \u001b[38;5;28;43mnext\u001b[39;49m\u001b[43m(\u001b[49m\u001b[38;5;28;43mrange\u001b[39;49m\u001b[43m(\u001b[49m\u001b[38;5;241;43m6\u001b[39;49m\u001b[43m)\u001b[49m\u001b[43m)\u001b[49m\n",
      "\u001b[0;31mTypeError\u001b[0m: 'range' object is not an iterator"
     ]
    }
   ],
   "source": [
    "next(range(6))"
   ]
  },
  {
   "cell_type": "code",
   "execution_count": 33,
   "id": "020cd866",
   "metadata": {},
   "outputs": [],
   "source": [
    "r = iter(range(4))"
   ]
  },
  {
   "cell_type": "code",
   "execution_count": 34,
   "id": "12679d73",
   "metadata": {},
   "outputs": [
    {
     "data": {
      "text/plain": [
       "0"
      ]
     },
     "execution_count": 34,
     "metadata": {},
     "output_type": "execute_result"
    }
   ],
   "source": [
    "next(r)"
   ]
  },
  {
   "cell_type": "code",
   "execution_count": 36,
   "id": "ce4039b7",
   "metadata": {},
   "outputs": [
    {
     "data": {
      "text/plain": [
       "1"
      ]
     },
     "execution_count": 36,
     "metadata": {},
     "output_type": "execute_result"
    }
   ],
   "source": [
    "next(r)"
   ]
  },
  {
   "cell_type": "code",
   "execution_count": 37,
   "id": "420b303a",
   "metadata": {},
   "outputs": [
    {
     "data": {
      "text/plain": [
       "2"
      ]
     },
     "execution_count": 37,
     "metadata": {},
     "output_type": "execute_result"
    }
   ],
   "source": [
    "next(r)"
   ]
  },
  {
   "cell_type": "code",
   "execution_count": 38,
   "id": "682ab924",
   "metadata": {},
   "outputs": [
    {
     "data": {
      "text/plain": [
       "3"
      ]
     },
     "execution_count": 38,
     "metadata": {},
     "output_type": "execute_result"
    }
   ],
   "source": [
    "next(r)"
   ]
  },
  {
   "cell_type": "code",
   "execution_count": 39,
   "id": "e69592eb",
   "metadata": {},
   "outputs": [
    {
     "ename": "StopIteration",
     "evalue": "",
     "output_type": "error",
     "traceback": [
      "\u001b[0;31m---------------------------------------------------------------------------\u001b[0m",
      "\u001b[0;31mStopIteration\u001b[0m                             Traceback (most recent call last)",
      "Input \u001b[0;32mIn [39]\u001b[0m, in \u001b[0;36m<cell line: 1>\u001b[0;34m()\u001b[0m\n\u001b[0;32m----> 1\u001b[0m \u001b[38;5;28;43mnext\u001b[39;49m\u001b[43m(\u001b[49m\u001b[43mr\u001b[49m\u001b[43m)\u001b[49m\n",
      "\u001b[0;31mStopIteration\u001b[0m: "
     ]
    }
   ],
   "source": [
    "next(r)"
   ]
  },
  {
   "cell_type": "markdown",
   "id": "73858d26",
   "metadata": {},
   "source": [
    "# Difference b/w return and yield"
   ]
  },
  {
   "cell_type": "markdown",
   "id": "afbc9d5f",
   "metadata": {},
   "source": [
    "In case of return function just returns and we get the data but instead of that what we want is \n",
    "I don't want a return I want an object and once we iterate through it we will get the data one by one. \n",
    "and that finction is called as generator function."
   ]
  },
  {
   "cell_type": "markdown",
   "id": "f4c53492",
   "metadata": {},
   "source": [
    "# So to convert any function into a generator function what is our keyword?\n",
    "our keyword is yield. So instead of using return in a function we can use yield inside a function.\n",
    "# where can we use it?\n",
    "So if someone asks you instead of range can we have any other generator function then answer is yield."
   ]
  },
  {
   "cell_type": "code",
   "execution_count": 63,
   "id": "12644490",
   "metadata": {},
   "outputs": [],
   "source": [
    "# please write a code for fibonacci series.\n",
    "def genfib(n):\n",
    "    a = 1\n",
    "    b = 1\n",
    "    l = []\n",
    "    for i in range(n):\n",
    "        l.append(a)\n",
    "        a,b = b, a+b\n",
    "    return l"
   ]
  },
  {
   "cell_type": "code",
   "execution_count": null,
   "id": "ae06d26c",
   "metadata": {},
   "outputs": [],
   "source": [
    "genfib(100000000)"
   ]
  },
  {
   "cell_type": "code",
   "execution_count": 59,
   "id": "b1e3a428",
   "metadata": {},
   "outputs": [
    {
     "data": {
      "text/plain": [
       "<generator object genfib at 0x7fc05de87190>"
      ]
     },
     "execution_count": 59,
     "metadata": {},
     "output_type": "execute_result"
    }
   ],
   "source": [
    "genfib(10000)"
   ]
  },
  {
   "cell_type": "markdown",
   "id": "a8b44f96",
   "metadata": {},
   "source": [
    "# Now I don't want return. I would like to create range() like function\n",
    "which will behave like a generator. which will keep on generating the data\n",
    "I am not expecting it to give data set immediately. It should keep on generating the data set.\n",
    "So we will see how to do that and then we will see what is the actual difference between return and yield in runtime and it's uses."
   ]
  },
  {
   "cell_type": "code",
   "execution_count": 2,
   "id": "99d51db5",
   "metadata": {},
   "outputs": [],
   "source": [
    "def genfib1(n):\n",
    "    a = 1\n",
    "    b = 1\n",
    "    for i in range(n):\n",
    "        yield(a)\n",
    "        a,b = b, a+b"
   ]
  },
  {
   "cell_type": "code",
   "execution_count": 3,
   "id": "d70b33a1",
   "metadata": {},
   "outputs": [
    {
     "data": {
      "text/plain": [
       "<generator object genfib1 at 0x7ffa29ebceb0>"
      ]
     },
     "execution_count": 3,
     "metadata": {},
     "output_type": "execute_result"
    }
   ],
   "source": [
    "genfib1(10) # here we can see that it is not giving me the data but object"
   ]
  },
  {
   "cell_type": "code",
   "execution_count": 6,
   "id": "1eae6316",
   "metadata": {},
   "outputs": [
    {
     "name": "stdout",
     "output_type": "stream",
     "text": [
      "1\n",
      "1\n",
      "2\n",
      "3\n",
      "5\n",
      "8\n",
      "13\n",
      "21\n",
      "34\n",
      "55\n"
     ]
    }
   ],
   "source": [
    "for i in genfib1(10): # so we can see that there is no difference\n",
    "    print(i)\n",
    "    "
   ]
  },
  {
   "cell_type": "markdown",
   "id": "49bb407b",
   "metadata": {},
   "source": [
    " so basically the difference between return and yield is return will first do all the computation\n",
    "and will return at last but in case of yield cpu will keep executing and keep throwing the data in console\n",
    "So yes in in case of return cpu computation is very very high and we are not even getting the data\n",
    "but in case of yield cpu consumption is high but bit less than return and we keep getting data."
   ]
  },
  {
   "cell_type": "markdown",
   "id": "9b33d91e",
   "metadata": {},
   "source": [
    "# Where do you use?\n",
    "# Most programmer use return instead of yield any particular reason?\n",
    "Ans: It depends on requirement If you don't have to generate very big data set better to go with return.\n",
    "    In case if you need to generate terabyte of data and you don't want to use whole resources in case of big\n",
    "    computation better go with the yield statement."
   ]
  },
  {
   "cell_type": "markdown",
   "id": "980a7fe8",
   "metadata": {},
   "source": [
    "by default string, tuple, list all are iterable object not iterator object."
   ]
  },
  {
   "cell_type": "markdown",
   "id": "916115c7",
   "metadata": {},
   "source": [
    "# file operations"
   ]
  },
  {
   "cell_type": "code",
   "execution_count": 12,
   "id": "320b9d08",
   "metadata": {},
   "outputs": [
    {
     "ename": "FileNotFoundError",
     "evalue": "[Errno 2] No such file or directory: 'test.txt'",
     "output_type": "error",
     "traceback": [
      "\u001b[0;31m---------------------------------------------------------------------------\u001b[0m",
      "\u001b[0;31mFileNotFoundError\u001b[0m                         Traceback (most recent call last)",
      "Input \u001b[0;32mIn [12]\u001b[0m, in \u001b[0;36m<cell line: 1>\u001b[0;34m()\u001b[0m\n\u001b[0;32m----> 1\u001b[0m f \u001b[38;5;241m=\u001b[39m \u001b[38;5;28;43mopen\u001b[39;49m\u001b[43m(\u001b[49m\u001b[38;5;124;43m\"\u001b[39;49m\u001b[38;5;124;43mtest.txt\u001b[39;49m\u001b[38;5;124;43m\"\u001b[39;49m\u001b[43m)\u001b[49m\n",
      "\u001b[0;31mFileNotFoundError\u001b[0m: [Errno 2] No such file or directory: 'test.txt'"
     ]
    }
   ],
   "source": [
    "f = open(\"test.txt\")"
   ]
  },
  {
   "cell_type": "code",
   "execution_count": 18,
   "id": "82d0c726",
   "metadata": {},
   "outputs": [
    {
     "name": "stdout",
     "output_type": "stream",
     "text": [
      "ExceptionHandling.ipynb                ExceptionHandlingBy sudhansuSir.ipynb\r\n"
     ]
    }
   ],
   "source": [
    "ls"
   ]
  },
  {
   "cell_type": "code",
   "execution_count": 19,
   "id": "8cbee48a",
   "metadata": {},
   "outputs": [
    {
     "name": "stdout",
     "output_type": "stream",
     "text": [
      "/Users/madhu\n"
     ]
    }
   ],
   "source": [
    "cd"
   ]
  },
  {
   "cell_type": "code",
   "execution_count": 22,
   "id": "3bee4a17",
   "metadata": {},
   "outputs": [
    {
     "data": {
      "text/plain": [
       "'/Users/madhu'"
      ]
     },
     "execution_count": 22,
     "metadata": {},
     "output_type": "execute_result"
    }
   ],
   "source": [
    "pwd"
   ]
  },
  {
   "cell_type": "code",
   "execution_count": 23,
   "id": "e5724081",
   "metadata": {},
   "outputs": [
    {
     "name": "stdout",
     "output_type": "stream",
     "text": [
      "\u001b[1m\u001b[36mApplications\u001b[m\u001b[m/             Untitled12.ipynb          challenge1.ipynb\r\n",
      "\u001b[1m\u001b[36mDesktop\u001b[m\u001b[m/                  Untitled13.ipynb          doubts.ipynb\r\n",
      "\u001b[1m\u001b[36mDocuments\u001b[m\u001b[m/                Untitled14.ipynb          firstClass.ipynb\r\n",
      "\u001b[1m\u001b[36mDownloads\u001b[m\u001b[m/                Untitled15.ipynb          firstclasspfsd.ipynb\r\n",
      "\u001b[1m\u001b[36mLibrary\u001b[m\u001b[m/                  Untitled16.ipynb          firstclasspfsdHons.ipynb\r\n",
      "\u001b[1m\u001b[36mMovies\u001b[m\u001b[m/                   Untitled17.ipynb          get-pip.py\r\n",
      "\u001b[1m\u001b[36mMusic\u001b[m\u001b[m/                    Untitled18.ipynb          \u001b[1m\u001b[36miCloud Drive (Archive)\u001b[m\u001b[m/\r\n",
      "\u001b[1m\u001b[36mPictures\u001b[m\u001b[m/                 Untitled19.ipynb          ifElse.ipynb\r\n",
      "\u001b[1m\u001b[36mPublic\u001b[m\u001b[m/                   Untitled2.ipynb           list and tuple.ipynb\r\n",
      "String_Class.ipynb        Untitled3.ipynb           list.ipynb\r\n",
      "String_function3.ipynb    Untitled4.ipynb           \u001b[1m\u001b[36mopt\u001b[m\u001b[m/\r\n",
      "StringsRG.ipynb           Untitled5.ipynb           package-lock.json\r\n",
      "Untitled.ipynb            Untitled6.ipynb           string_function2.ipynb\r\n",
      "Untitled1.ipynb           Untitled7.ipynb           string_functions.ipynb\r\n",
      "Untitled10.ipynb          Untitled8.ipynb\r\n",
      "Untitled11.ipynb          Untitled9.ipynb\r\n"
     ]
    }
   ],
   "source": [
    "ls\n"
   ]
  },
  {
   "cell_type": "code",
   "execution_count": 25,
   "id": "ecfbd3a2",
   "metadata": {},
   "outputs": [
    {
     "name": "stdout",
     "output_type": "stream",
     "text": [
      "\u001b[1m\u001b[36mApplications\u001b[m\u001b[m/             Untitled12.ipynb          challenge1.ipynb\r\n",
      "\u001b[1m\u001b[36mDesktop\u001b[m\u001b[m/                  Untitled13.ipynb          doubts.ipynb\r\n",
      "\u001b[1m\u001b[36mDocuments\u001b[m\u001b[m/                Untitled14.ipynb          firstClass.ipynb\r\n",
      "\u001b[1m\u001b[36mDownloads\u001b[m\u001b[m/                Untitled15.ipynb          firstclasspfsd.ipynb\r\n",
      "\u001b[1m\u001b[36mLibrary\u001b[m\u001b[m/                  Untitled16.ipynb          firstclasspfsdHons.ipynb\r\n",
      "\u001b[1m\u001b[36mMovies\u001b[m\u001b[m/                   Untitled17.ipynb          get-pip.py\r\n",
      "\u001b[1m\u001b[36mMusic\u001b[m\u001b[m/                    Untitled18.ipynb          \u001b[1m\u001b[36miCloud Drive (Archive)\u001b[m\u001b[m/\r\n",
      "\u001b[1m\u001b[36mPictures\u001b[m\u001b[m/                 Untitled19.ipynb          ifElse.ipynb\r\n",
      "\u001b[1m\u001b[36mPublic\u001b[m\u001b[m/                   Untitled2.ipynb           list and tuple.ipynb\r\n",
      "String_Class.ipynb        Untitled3.ipynb           list.ipynb\r\n",
      "String_function3.ipynb    Untitled4.ipynb           \u001b[1m\u001b[36mopt\u001b[m\u001b[m/\r\n",
      "StringsRG.ipynb           Untitled5.ipynb           package-lock.json\r\n",
      "Untitled.ipynb            Untitled6.ipynb           string_function2.ipynb\r\n",
      "Untitled1.ipynb           Untitled7.ipynb           string_functions.ipynb\r\n",
      "Untitled10.ipynb          Untitled8.ipynb\r\n",
      "Untitled11.ipynb          Untitled9.ipynb\r\n"
     ]
    }
   ],
   "source": [
    "ls"
   ]
  },
  {
   "cell_type": "code",
   "execution_count": 29,
   "id": "609a3fef",
   "metadata": {},
   "outputs": [],
   "source": [
    "# create a file of name madhu\n",
    "f = open(\"madhu.txt\", 'w')"
   ]
  },
  {
   "cell_type": "code",
   "execution_count": 30,
   "id": "758f6cca",
   "metadata": {},
   "outputs": [
    {
     "name": "stdout",
     "output_type": "stream",
     "text": [
      "\u001b[1m\u001b[36mApplications\u001b[m\u001b[m/             Untitled12.ipynb          challenge1.ipynb\r\n",
      "\u001b[1m\u001b[36mDesktop\u001b[m\u001b[m/                  Untitled13.ipynb          doubts.ipynb\r\n",
      "\u001b[1m\u001b[36mDocuments\u001b[m\u001b[m/                Untitled14.ipynb          firstClass.ipynb\r\n",
      "\u001b[1m\u001b[36mDownloads\u001b[m\u001b[m/                Untitled15.ipynb          firstclasspfsd.ipynb\r\n",
      "\u001b[1m\u001b[36mLibrary\u001b[m\u001b[m/                  Untitled16.ipynb          firstclasspfsdHons.ipynb\r\n",
      "\u001b[1m\u001b[36mMovies\u001b[m\u001b[m/                   Untitled17.ipynb          get-pip.py\r\n",
      "\u001b[1m\u001b[36mMusic\u001b[m\u001b[m/                    Untitled18.ipynb          \u001b[1m\u001b[36miCloud Drive (Archive)\u001b[m\u001b[m/\r\n",
      "\u001b[1m\u001b[36mPictures\u001b[m\u001b[m/                 Untitled19.ipynb          ifElse.ipynb\r\n",
      "\u001b[1m\u001b[36mPublic\u001b[m\u001b[m/                   Untitled2.ipynb           list and tuple.ipynb\r\n",
      "String_Class.ipynb        Untitled3.ipynb           list.ipynb\r\n",
      "String_function3.ipynb    Untitled4.ipynb           madhu.txt\r\n",
      "StringsRG.ipynb           Untitled5.ipynb           \u001b[1m\u001b[36mopt\u001b[m\u001b[m/\r\n",
      "Untitled.ipynb            Untitled6.ipynb           package-lock.json\r\n",
      "Untitled1.ipynb           Untitled7.ipynb           string_function2.ipynb\r\n",
      "Untitled10.ipynb          Untitled8.ipynb           string_functions.ipynb\r\n",
      "Untitled11.ipynb          Untitled9.ipynb           test.txt\r\n"
     ]
    }
   ],
   "source": [
    "ls"
   ]
  },
  {
   "cell_type": "markdown",
   "id": "8ef33c63",
   "metadata": {},
   "source": [
    "different filr operation\n",
    "Mode of file operation\n",
    "r -> read operation\n",
    "w -> write operation\n",
    "r+ -> open a file for both writing and reading\n",
    "w+ -> both read and write operation\n",
    "wb ->\n",
    "wb+ ->\n",
    "a ->\n",
    "rb ->"
   ]
  },
  {
   "cell_type": "code",
   "execution_count": null,
   "id": "58bc676e",
   "metadata": {},
   "outputs": [],
   "source": [
    " "
   ]
  },
  {
   "cell_type": "code",
   "execution_count": 31,
   "id": "d690475c",
   "metadata": {},
   "outputs": [
    {
     "data": {
      "text/plain": [
       "31"
      ]
     },
     "execution_count": 31,
     "metadata": {},
     "output_type": "execute_result"
    }
   ],
   "source": [
    "f.write(\"This is my first file operation\")"
   ]
  },
  {
   "cell_type": "code",
   "execution_count": 32,
   "id": "06eaa147",
   "metadata": {},
   "outputs": [],
   "source": [
    "f.close()"
   ]
  },
  {
   "cell_type": "code",
   "execution_count": 33,
   "id": "a702b32c",
   "metadata": {},
   "outputs": [
    {
     "name": "stdout",
     "output_type": "stream",
     "text": [
      "\u001b[1m\u001b[36mApplications\u001b[m\u001b[m/             Untitled12.ipynb          challenge1.ipynb\r\n",
      "\u001b[1m\u001b[36mDesktop\u001b[m\u001b[m/                  Untitled13.ipynb          doubts.ipynb\r\n",
      "\u001b[1m\u001b[36mDocuments\u001b[m\u001b[m/                Untitled14.ipynb          firstClass.ipynb\r\n",
      "\u001b[1m\u001b[36mDownloads\u001b[m\u001b[m/                Untitled15.ipynb          firstclasspfsd.ipynb\r\n",
      "\u001b[1m\u001b[36mLibrary\u001b[m\u001b[m/                  Untitled16.ipynb          firstclasspfsdHons.ipynb\r\n",
      "\u001b[1m\u001b[36mMovies\u001b[m\u001b[m/                   Untitled17.ipynb          get-pip.py\r\n",
      "\u001b[1m\u001b[36mMusic\u001b[m\u001b[m/                    Untitled18.ipynb          \u001b[1m\u001b[36miCloud Drive (Archive)\u001b[m\u001b[m/\r\n",
      "\u001b[1m\u001b[36mPictures\u001b[m\u001b[m/                 Untitled19.ipynb          ifElse.ipynb\r\n",
      "\u001b[1m\u001b[36mPublic\u001b[m\u001b[m/                   Untitled2.ipynb           list and tuple.ipynb\r\n",
      "String_Class.ipynb        Untitled3.ipynb           list.ipynb\r\n",
      "String_function3.ipynb    Untitled4.ipynb           madhu.txt\r\n",
      "StringsRG.ipynb           Untitled5.ipynb           \u001b[1m\u001b[36mopt\u001b[m\u001b[m/\r\n",
      "Untitled.ipynb            Untitled6.ipynb           package-lock.json\r\n",
      "Untitled1.ipynb           Untitled7.ipynb           string_function2.ipynb\r\n",
      "Untitled10.ipynb          Untitled8.ipynb           string_functions.ipynb\r\n",
      "Untitled11.ipynb          Untitled9.ipynb           test.txt\r\n"
     ]
    }
   ],
   "source": [
    "ls"
   ]
  },
  {
   "cell_type": "code",
   "execution_count": 34,
   "id": "83b5a29e",
   "metadata": {},
   "outputs": [
    {
     "data": {
      "text/plain": [
       "'/Users/madhu'"
      ]
     },
     "execution_count": 34,
     "metadata": {},
     "output_type": "execute_result"
    }
   ],
   "source": [
    "pwd"
   ]
  },
  {
   "cell_type": "markdown",
   "id": "8bfd6740",
   "metadata": {},
   "source": [
    "# Two ways to do write operations over file\n",
    "# 1st Method"
   ]
  },
  {
   "cell_type": "code",
   "execution_count": 36,
   "id": "14342917",
   "metadata": {},
   "outputs": [],
   "source": [
    "f1 = open(\"test1.txt\", 'w')"
   ]
  },
  {
   "cell_type": "code",
   "execution_count": 37,
   "id": "7f6e4135",
   "metadata": {},
   "outputs": [
    {
     "data": {
      "text/plain": [
       "36"
      ]
     },
     "execution_count": 37,
     "metadata": {},
     "output_type": "execute_result"
    }
   ],
   "source": [
    "f1.write(\"I am tryind to learn file operations\")"
   ]
  },
  {
   "cell_type": "code",
   "execution_count": 38,
   "id": "c3f1ff4a",
   "metadata": {},
   "outputs": [],
   "source": [
    "f1.close()"
   ]
  },
  {
   "cell_type": "code",
   "execution_count": 39,
   "id": "757923ec",
   "metadata": {},
   "outputs": [],
   "source": [
    "l = [1,2,3,4,5,6,7] # try to store it inside file"
   ]
  },
  {
   "cell_type": "code",
   "execution_count": 40,
   "id": "25ce1321",
   "metadata": {},
   "outputs": [],
   "source": [
    "f2 = open(\"test2.txt\", 'w')"
   ]
  },
  {
   "cell_type": "code",
   "execution_count": 41,
   "id": "efacc0f1",
   "metadata": {},
   "outputs": [
    {
     "ename": "TypeError",
     "evalue": "write() argument must be str, not list",
     "output_type": "error",
     "traceback": [
      "\u001b[0;31m---------------------------------------------------------------------------\u001b[0m",
      "\u001b[0;31mTypeError\u001b[0m                                 Traceback (most recent call last)",
      "Input \u001b[0;32mIn [41]\u001b[0m, in \u001b[0;36m<cell line: 1>\u001b[0;34m()\u001b[0m\n\u001b[0;32m----> 1\u001b[0m \u001b[43mf2\u001b[49m\u001b[38;5;241;43m.\u001b[39;49m\u001b[43mwrite\u001b[49m\u001b[43m(\u001b[49m\u001b[43ml\u001b[49m\u001b[43m)\u001b[49m\n",
      "\u001b[0;31mTypeError\u001b[0m: write() argument must be str, not list"
     ]
    }
   ],
   "source": [
    "f2.write(l)"
   ]
  },
  {
   "cell_type": "markdown",
   "id": "025041f2",
   "metadata": {},
   "source": [
    "# Why this error?\n",
    "Since write doesn't accept list type it only stores data in form of string.\n",
    "So we need to convert the list in list.\n"
   ]
  },
  {
   "cell_type": "code",
   "execution_count": 42,
   "id": "ee6d27ca",
   "metadata": {},
   "outputs": [
    {
     "data": {
      "text/plain": [
       "21"
      ]
     },
     "execution_count": 42,
     "metadata": {},
     "output_type": "execute_result"
    }
   ],
   "source": [
    "f2.write(str(l))"
   ]
  },
  {
   "cell_type": "code",
   "execution_count": 44,
   "id": "f4c5f0ec",
   "metadata": {},
   "outputs": [],
   "source": [
    "f2.close() # without closing the file data won't get stored in file."
   ]
  },
  {
   "cell_type": "code",
   "execution_count": 45,
   "id": "257e5d99",
   "metadata": {},
   "outputs": [],
   "source": [
    "f3 = open(\"test.madhu\",'w')# we can create a file with any extension"
   ]
  },
  {
   "cell_type": "code",
   "execution_count": 46,
   "id": "15a70411",
   "metadata": {},
   "outputs": [
    {
     "data": {
      "text/plain": [
       "13"
      ]
     },
     "execution_count": 46,
     "metadata": {},
     "output_type": "execute_result"
    }
   ],
   "source": [
    "f3.write(\"I love python\")"
   ]
  },
  {
   "cell_type": "code",
   "execution_count": 47,
   "id": "e9b1c4de",
   "metadata": {},
   "outputs": [],
   "source": [
    "f3.close()"
   ]
  },
  {
   "cell_type": "markdown",
   "id": "842da572",
   "metadata": {},
   "source": [
    "# 2nd Method"
   ]
  },
  {
   "cell_type": "code",
   "execution_count": 54,
   "id": "8debda84",
   "metadata": {},
   "outputs": [
    {
     "name": "stdout",
     "output_type": "stream",
     "text": [
      "Overwriting test5.txt\n"
     ]
    }
   ],
   "source": [
    "%%writefile test5.txt\n",
    "This is my python program to write into a file in different way.\n",
    "This is my python program to write into a file in different way.\n",
    "This is my python program to write into a file in different way\n",
    "This is my python program to write into a file in different way\n",
    "This is my python program to write into a file in different way\n",
    "This is my python program to write into a file in different way\n",
    "This is my python program to write into a file in different way"
   ]
  },
  {
   "cell_type": "code",
   "execution_count": 50,
   "id": "fa41a4ff",
   "metadata": {},
   "outputs": [
    {
     "data": {
      "text/plain": [
       "'/Users/madhu'"
      ]
     },
     "execution_count": 50,
     "metadata": {},
     "output_type": "execute_result"
    }
   ],
   "source": [
    "pwd\n"
   ]
  },
  {
   "cell_type": "markdown",
   "id": "c112c9fe",
   "metadata": {},
   "source": [
    "# y is it important?\n",
    "people are not going to give you data directly.\n",
    "They will be giving you in some file format or can give access of databases \n",
    "in sql or no sql so from there you will have to perfom read/write operations and you will have to \n",
    "write the logic over those files and i.e where it helps.\n",
    "In python it's very easy to work with file in any kind of file format."
   ]
  },
  {
   "cell_type": "code",
   "execution_count": 57,
   "id": "417db653",
   "metadata": {},
   "outputs": [
    {
     "data": {
      "text/plain": [
       "'This is my python program to write into a file in different way.\\nThis is my python program to write into a file in different way.\\nThis is my python program to write into a file in different way\\nThis is my python program to write into a file in different way\\nThis is my python program to write into a file in different way\\nThis is my python program to write into a file in different way\\nThis is my python program to write into a file in different way\\n'"
      ]
     },
     "execution_count": 57,
     "metadata": {},
     "output_type": "execute_result"
    }
   ],
   "source": [
    "# perform only read operation\n",
    "f = open('test5.txt')\n",
    "f.read()\n"
   ]
  },
  {
   "cell_type": "code",
   "execution_count": 58,
   "id": "5d87f3db",
   "metadata": {},
   "outputs": [
    {
     "data": {
      "text/plain": [
       "''"
      ]
     },
     "execution_count": 58,
     "metadata": {},
     "output_type": "execute_result"
    }
   ],
   "source": [
    "# re-executed the sread operation but not getting it in second time why?\n",
    "# bcz in string we iterate through the string and get the data but now pointer is at last so we are not able to get. it is already exhausted.\n",
    "f.read()"
   ]
  },
  {
   "cell_type": "code",
   "execution_count": 60,
   "id": "adb90846",
   "metadata": {},
   "outputs": [
    {
     "data": {
      "text/plain": [
       "0"
      ]
     },
     "execution_count": 60,
     "metadata": {},
     "output_type": "execute_result"
    }
   ],
   "source": [
    "# How to adjust the pointer?\n",
    "# use seek() function to reset your pointer\n",
    "f.seek(0)"
   ]
  },
  {
   "cell_type": "code",
   "execution_count": 61,
   "id": "65603d3a",
   "metadata": {},
   "outputs": [
    {
     "data": {
      "text/plain": [
       "'This is my python program to write into a file in different way.\\nThis is my python program to write into a file in different way.\\nThis is my python program to write into a file in different way\\nThis is my python program to write into a file in different way\\nThis is my python program to write into a file in different way\\nThis is my python program to write into a file in different way\\nThis is my python program to write into a file in different way\\n'"
      ]
     },
     "execution_count": 61,
     "metadata": {},
     "output_type": "execute_result"
    }
   ],
   "source": [
    "f.read()"
   ]
  },
  {
   "cell_type": "code",
   "execution_count": 64,
   "id": "cdba6b1f",
   "metadata": {},
   "outputs": [
    {
     "data": {
      "text/plain": [
       "50"
      ]
     },
     "execution_count": 64,
     "metadata": {},
     "output_type": "execute_result"
    }
   ],
   "source": [
    "f.seek(50)"
   ]
  },
  {
   "cell_type": "code",
   "execution_count": 65,
   "id": "3bb677e6",
   "metadata": {},
   "outputs": [
    {
     "data": {
      "text/plain": [
       "'different way.\\nThis is my python program to write into a file in different way.\\nThis is my python program to write into a file in different way\\nThis is my python program to write into a file in different way\\nThis is my python program to write into a file in different way\\nThis is my python program to write into a file in different way\\nThis is my python program to write into a file in different way\\n'"
      ]
     },
     "execution_count": 65,
     "metadata": {},
     "output_type": "execute_result"
    }
   ],
   "source": [
    "f.read()"
   ]
  },
  {
   "cell_type": "code",
   "execution_count": 67,
   "id": "c72c14f8",
   "metadata": {},
   "outputs": [],
   "source": [
    "f1 = open('test5.txt')"
   ]
  },
  {
   "cell_type": "code",
   "execution_count": 68,
   "id": "ba743e0b",
   "metadata": {},
   "outputs": [
    {
     "data": {
      "text/plain": [
       "0"
      ]
     },
     "execution_count": 68,
     "metadata": {},
     "output_type": "execute_result"
    }
   ],
   "source": [
    "f1.tell()"
   ]
  },
  {
   "cell_type": "code",
   "execution_count": 69,
   "id": "8f656055",
   "metadata": {},
   "outputs": [
    {
     "data": {
      "text/plain": [
       "'This is my python program to write into a file in different way.\\nThis is my python program to write into a file in different way.\\nThis is my python program to write into a file in different way\\nThis is my python program to write into a file in different way\\nThis is my python program to write into a file in different way\\nThis is my python program to write into a file in different way\\nThis is my python program to write into a file in different way\\n'"
      ]
     },
     "execution_count": 69,
     "metadata": {},
     "output_type": "execute_result"
    }
   ],
   "source": [
    "f1.read()"
   ]
  },
  {
   "cell_type": "code",
   "execution_count": 70,
   "id": "09b88d45",
   "metadata": {},
   "outputs": [
    {
     "data": {
      "text/plain": [
       "450"
      ]
     },
     "execution_count": 70,
     "metadata": {},
     "output_type": "execute_result"
    }
   ],
   "source": [
    "f1.tell()"
   ]
  },
  {
   "cell_type": "code",
   "execution_count": 71,
   "id": "161b874a",
   "metadata": {},
   "outputs": [
    {
     "data": {
      "text/plain": [
       "100"
      ]
     },
     "execution_count": 71,
     "metadata": {},
     "output_type": "execute_result"
    }
   ],
   "source": [
    "f1.seek(100)"
   ]
  },
  {
   "cell_type": "code",
   "execution_count": 72,
   "id": "177c038e",
   "metadata": {},
   "outputs": [
    {
     "data": {
      "text/plain": [
       "100"
      ]
     },
     "execution_count": 72,
     "metadata": {},
     "output_type": "execute_result"
    }
   ],
   "source": [
    "f1.tell()"
   ]
  },
  {
   "cell_type": "code",
   "execution_count": 73,
   "id": "112efae0",
   "metadata": {},
   "outputs": [
    {
     "data": {
      "text/plain": [
       "'This is my python program to write into a file in different way.\\nThis is my python program to write into a file in different way.\\nThis is my python program to write into a file in different way\\nThis is my python program to write into a file in different way\\nThis is my python program to write into a file in different way\\nThis is my python program to write into a file in different way\\nThis is my python program to write into a file in different way\\n'"
      ]
     },
     "execution_count": 73,
     "metadata": {},
     "output_type": "execute_result"
    }
   ],
   "source": [
    "f.read()"
   ]
  },
  {
   "cell_type": "code",
   "execution_count": 74,
   "id": "71164a55",
   "metadata": {},
   "outputs": [
    {
     "data": {
      "text/plain": [
       "450"
      ]
     },
     "execution_count": 74,
     "metadata": {},
     "output_type": "execute_result"
    }
   ],
   "source": [
    "f.tell()"
   ]
  },
  {
   "cell_type": "code",
   "execution_count": 85,
   "id": "694d5200",
   "metadata": {},
   "outputs": [
    {
     "data": {
      "text/plain": [
       "5"
      ]
     },
     "execution_count": 85,
     "metadata": {},
     "output_type": "execute_result"
    }
   ],
   "source": [
    "f.seek(5)"
   ]
  },
  {
   "cell_type": "code",
   "execution_count": 86,
   "id": "0b543380",
   "metadata": {},
   "outputs": [
    {
     "data": {
      "text/plain": [
       "5"
      ]
     },
     "execution_count": 86,
     "metadata": {},
     "output_type": "execute_result"
    }
   ],
   "source": [
    "f.tell()"
   ]
  },
  {
   "cell_type": "code",
   "execution_count": 87,
   "id": "d4779342",
   "metadata": {},
   "outputs": [
    {
     "data": {
      "text/plain": [
       "'is my python program to write into a fil'"
      ]
     },
     "execution_count": 87,
     "metadata": {},
     "output_type": "execute_result"
    }
   ],
   "source": [
    "f.read(40) # here it will read the data from 5 to 40 location."
   ]
  },
  {
   "cell_type": "code",
   "execution_count": 92,
   "id": "564a3c6d",
   "metadata": {},
   "outputs": [
    {
     "data": {
      "text/plain": [
       "0"
      ]
     },
     "execution_count": 92,
     "metadata": {},
     "output_type": "execute_result"
    }
   ],
   "source": [
    "f.seek(0)"
   ]
  },
  {
   "cell_type": "code",
   "execution_count": 93,
   "id": "ff65287a",
   "metadata": {},
   "outputs": [
    {
     "data": {
      "text/plain": [
       "'This is my python program to write into a file in different way.\\n'"
      ]
     },
     "execution_count": 93,
     "metadata": {},
     "output_type": "execute_result"
    }
   ],
   "source": [
    "f.readline() # It reads only one line in the file"
   ]
  },
  {
   "cell_type": "code",
   "execution_count": 94,
   "id": "467c7f7b",
   "metadata": {},
   "outputs": [
    {
     "data": {
      "text/plain": [
       "['This is my python program to write into a file in different way.\\n',\n",
       " 'This is my python program to write into a file in different way\\n',\n",
       " 'This is my python program to write into a file in different way\\n',\n",
       " 'This is my python program to write into a file in different way\\n',\n",
       " 'This is my python program to write into a file in different way\\n',\n",
       " 'This is my python program to write into a file in different way\\n']"
      ]
     },
     "execution_count": 94,
     "metadata": {},
     "output_type": "execute_result"
    }
   ],
   "source": [
    "f.readlines() # reads all the lines. it reads the data line by line and gives the o/p in list format."
   ]
  },
  {
   "cell_type": "code",
   "execution_count": 95,
   "id": "dff9f4e6",
   "metadata": {},
   "outputs": [
    {
     "data": {
      "text/plain": [
       "<_io.TextIOWrapper name='test5.txt' mode='r' encoding='UTF-8'>"
      ]
     },
     "execution_count": 95,
     "metadata": {},
     "output_type": "execute_result"
    }
   ],
   "source": [
    "f"
   ]
  },
  {
   "cell_type": "code",
   "execution_count": 97,
   "id": "17c6c01d",
   "metadata": {},
   "outputs": [
    {
     "data": {
      "text/plain": [
       "87"
      ]
     },
     "execution_count": 97,
     "metadata": {},
     "output_type": "execute_result"
    }
   ],
   "source": [
    "f.fileno() # gives the file no. in Ram"
   ]
  },
  {
   "cell_type": "code",
   "execution_count": 98,
   "id": "e436d2d4",
   "metadata": {},
   "outputs": [],
   "source": [
    "f = open(\"test.txt\", 'w')"
   ]
  },
  {
   "cell_type": "code",
   "execution_count": 99,
   "id": "eebe7f66",
   "metadata": {},
   "outputs": [
    {
     "data": {
      "text/plain": [
       "410"
      ]
     },
     "execution_count": 99,
     "metadata": {},
     "output_type": "execute_result"
    }
   ],
   "source": [
    "f.write('''This is my python program to write into a file in different way.\\n',\n",
    " 'This is my python program to write into a file in different way\\n',\n",
    " 'This is my python program to write into a file in different way\\n',\n",
    " 'This is my python program to write into a file in different way\\n',\n",
    " 'This is my python program to write into a file in different way\\n',\n",
    " 'This is my python program to write into a file in different way\\n''')"
   ]
  },
  {
   "cell_type": "code",
   "execution_count": 100,
   "id": "5d2752db",
   "metadata": {},
   "outputs": [],
   "source": [
    "f.close()"
   ]
  },
  {
   "cell_type": "code",
   "execution_count": 111,
   "id": "928954d8",
   "metadata": {},
   "outputs": [],
   "source": [
    "f = open(\"test.txt\", 'w')"
   ]
  },
  {
   "cell_type": "code",
   "execution_count": 112,
   "id": "322bd1e6",
   "metadata": {},
   "outputs": [
    {
     "data": {
      "text/plain": [
       "54"
      ]
     },
     "execution_count": 112,
     "metadata": {},
     "output_type": "execute_result"
    }
   ],
   "source": [
    "f.write(\"sdjnf kwjfaw fwdiha wdvedhv eodihqweoruhov iuahfo weov\")"
   ]
  },
  {
   "cell_type": "code",
   "execution_count": 113,
   "id": "0f4b9328",
   "metadata": {},
   "outputs": [],
   "source": [
    "f.close() # once we open the file we can see that previous data set is gone\n",
    "# it has overwritten the previous data\n"
   ]
  },
  {
   "cell_type": "code",
   "execution_count": 114,
   "id": "8fcf2ae7",
   "metadata": {},
   "outputs": [],
   "source": [
    "# perform append operation over file since I don't want to lose previos data\n",
    "f = open(\"test.txt\", 'a') # a means append mode"
   ]
  },
  {
   "cell_type": "code",
   "execution_count": 115,
   "id": "d5084222",
   "metadata": {},
   "outputs": [
    {
     "data": {
      "text/plain": [
       "65"
      ]
     },
     "execution_count": 115,
     "metadata": {},
     "output_type": "execute_result"
    }
   ],
   "source": [
    "f.write(\" Hello guys how are you? hope you are enjoying learnoing python.]\")"
   ]
  },
  {
   "cell_type": "code",
   "execution_count": 116,
   "id": "cb4ee56e",
   "metadata": {},
   "outputs": [],
   "source": [
    "f.close()"
   ]
  },
  {
   "cell_type": "code",
   "execution_count": null,
   "id": "76ef835d",
   "metadata": {},
   "outputs": [],
   "source": []
  }
 ],
 "metadata": {
  "kernelspec": {
   "display_name": "Python 3 (ipykernel)",
   "language": "python",
   "name": "python3"
  },
  "language_info": {
   "codemirror_mode": {
    "name": "ipython",
    "version": 3
   },
   "file_extension": ".py",
   "mimetype": "text/x-python",
   "name": "python",
   "nbconvert_exporter": "python",
   "pygments_lexer": "ipython3",
   "version": "3.9.12"
  }
 },
 "nbformat": 4,
 "nbformat_minor": 5
}
