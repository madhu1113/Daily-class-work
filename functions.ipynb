{
 "cells": [
  {
   "cell_type": "code",
   "execution_count": 6,
   "id": "a12b7040",
   "metadata": {},
   "outputs": [],
   "source": [
    "def test(a,b):\n",
    "    '''This is function for concatenation or addition'''\n",
    "    return a+b"
   ]
  },
  {
   "cell_type": "code",
   "execution_count": 7,
   "id": "032a903d",
   "metadata": {},
   "outputs": [
    {
     "data": {
      "text/plain": [
       "9"
      ]
     },
     "execution_count": 7,
     "metadata": {},
     "output_type": "execute_result"
    }
   ],
   "source": [
    "test(4,5)"
   ]
  },
  {
   "cell_type": "code",
   "execution_count": 8,
   "id": "040ca905",
   "metadata": {},
   "outputs": [
    {
     "data": {
      "text/plain": [
       "'MadhuPriya'"
      ]
     },
     "execution_count": 8,
     "metadata": {},
     "output_type": "execute_result"
    }
   ],
   "source": [
    "test(\"Madhu\", \"Priya\")"
   ]
  },
  {
   "cell_type": "code",
   "execution_count": 4,
   "id": "36444a88",
   "metadata": {},
   "outputs": [
    {
     "data": {
      "text/plain": [
       "19"
      ]
     },
     "execution_count": 4,
     "metadata": {},
     "output_type": "execute_result"
    }
   ],
   "source": [
    "test(a =9, b = 10)"
   ]
  },
  {
   "cell_type": "code",
   "execution_count": 5,
   "id": "72d4e5da",
   "metadata": {},
   "outputs": [
    {
     "data": {
      "text/plain": [
       "29"
      ]
     },
     "execution_count": 5,
     "metadata": {},
     "output_type": "execute_result"
    }
   ],
   "source": [
    "test(b = 19 , a=10)"
   ]
  },
  {
   "cell_type": "code",
   "execution_count": 9,
   "id": "685600d9",
   "metadata": {},
   "outputs": [
    {
     "name": "stdout",
     "output_type": "stream",
     "text": [
      "\n"
     ]
    }
   ],
   "source": [
    "print()"
   ]
  },
  {
   "cell_type": "code",
   "execution_count": 10,
   "id": "32314350",
   "metadata": {},
   "outputs": [],
   "source": [
    "def test(a,b,c,d,e):\n",
    "    return a,b,c,d,e"
   ]
  },
  {
   "cell_type": "code",
   "execution_count": 14,
   "id": "0d5330c8",
   "metadata": {},
   "outputs": [
    {
     "ename": "TypeError",
     "evalue": "test() takes 5 positional arguments but 6 were given",
     "output_type": "error",
     "traceback": [
      "\u001b[0;31m---------------------------------------------------------------------------\u001b[0m",
      "\u001b[0;31mTypeError\u001b[0m                                 Traceback (most recent call last)",
      "Input \u001b[0;32mIn [14]\u001b[0m, in \u001b[0;36m<cell line: 1>\u001b[0;34m()\u001b[0m\n\u001b[0;32m----> 1\u001b[0m \u001b[43mtest\u001b[49m\u001b[43m(\u001b[49m\u001b[38;5;241;43m3\u001b[39;49m\u001b[43m,\u001b[49m\u001b[38;5;241;43m4\u001b[39;49m\u001b[43m,\u001b[49m\u001b[38;5;241;43m5\u001b[39;49m\u001b[43m,\u001b[49m\u001b[38;5;241;43m6\u001b[39;49m\u001b[43m,\u001b[49m\u001b[38;5;241;43m7\u001b[39;49m\u001b[43m,\u001b[49m\u001b[38;5;241;43m8\u001b[39;49m\u001b[43m)\u001b[49m\n",
      "\u001b[0;31mTypeError\u001b[0m: test() takes 5 positional arguments but 6 were given"
     ]
    }
   ],
   "source": [
    "test(3,4,5,6,7,8)"
   ]
  },
  {
   "cell_type": "code",
   "execution_count": 15,
   "id": "1c378d19",
   "metadata": {},
   "outputs": [],
   "source": [
    "# create a function where we can pass multiple parameter at run time\n",
    "def test(*a):\n",
    "    return a\n"
   ]
  },
  {
   "cell_type": "code",
   "execution_count": 16,
   "id": "2616c7a8",
   "metadata": {},
   "outputs": [
    {
     "data": {
      "text/plain": [
       "(35, 38)"
      ]
     },
     "execution_count": 16,
     "metadata": {},
     "output_type": "execute_result"
    }
   ],
   "source": [
    "test(35,38)"
   ]
  },
  {
   "cell_type": "code",
   "execution_count": 17,
   "id": "0243ec8a",
   "metadata": {},
   "outputs": [
    {
     "data": {
      "text/plain": [
       "(34, 56, 78, 90)"
      ]
     },
     "execution_count": 17,
     "metadata": {},
     "output_type": "execute_result"
    }
   ],
   "source": [
    "test(34,56,78,90)"
   ]
  },
  {
   "cell_type": "code",
   "execution_count": 18,
   "id": "ea320347",
   "metadata": {},
   "outputs": [
    {
     "data": {
      "text/plain": [
       "(3, 4, 5, 6, [12, 34, 56, 78])"
      ]
     },
     "execution_count": 18,
     "metadata": {},
     "output_type": "execute_result"
    }
   ],
   "source": [
    "test(3,4,5,6,[12,34,56,78])"
   ]
  },
  {
   "cell_type": "code",
   "execution_count": 19,
   "id": "fdcf47c0",
   "metadata": {},
   "outputs": [],
   "source": [
    "def test1(*args):\n",
    "    return args"
   ]
  },
  {
   "cell_type": "code",
   "execution_count": 20,
   "id": "48afe4be",
   "metadata": {},
   "outputs": [
    {
     "data": {
      "text/plain": [
       "(34, 56, 12, 90)"
      ]
     },
     "execution_count": 20,
     "metadata": {},
     "output_type": "execute_result"
    }
   ],
   "source": [
    "test1(34,56,12,90)"
   ]
  },
  {
   "cell_type": "code",
   "execution_count": 24,
   "id": "5e9ada0d",
   "metadata": {},
   "outputs": [],
   "source": [
    "# write a function which return all the parameter as list\n",
    "def test3(*a):\n",
    "    l = []\n",
    "    for i in a:\n",
    "        l.append(i)\n",
    "    return l"
   ]
  },
  {
   "cell_type": "code",
   "execution_count": 25,
   "id": "d2c1fdc4",
   "metadata": {},
   "outputs": [
    {
     "data": {
      "text/plain": [
       "[2, 3, 4, 56, (34, 67, 89, 'Madhu')]"
      ]
     },
     "execution_count": 25,
     "metadata": {},
     "output_type": "execute_result"
    }
   ],
   "source": [
    "test3(2,3,4,56,(34,67,89,\"Madhu\"))"
   ]
  },
  {
   "cell_type": "code",
   "execution_count": 27,
   "id": "9931fd59",
   "metadata": {},
   "outputs": [],
   "source": [
    "def test4(a,b,c,d,e,*m):\n",
    "    return a,b,c,d,e,m"
   ]
  },
  {
   "cell_type": "code",
   "execution_count": 29,
   "id": "b27f89b8",
   "metadata": {},
   "outputs": [
    {
     "data": {
      "text/plain": [
       "(2, 3, 4, 5, 6, ((23, 56, 78, 90),))"
      ]
     },
     "execution_count": 29,
     "metadata": {},
     "output_type": "execute_result"
    }
   ],
   "source": [
    "test4(2,3,4,5,6,(23,56,78,90))"
   ]
  },
  {
   "cell_type": "code",
   "execution_count": 41,
   "id": "459050c1",
   "metadata": {},
   "outputs": [],
   "source": [
    "def test5(*m,a,b,c,d,e):\n",
    "    return m,a,b,c,d,e"
   ]
  },
  {
   "cell_type": "code",
   "execution_count": 42,
   "id": "23277213",
   "metadata": {},
   "outputs": [
    {
     "ename": "TypeError",
     "evalue": "test5() missing 5 required keyword-only arguments: 'a', 'b', 'c', 'd', and 'e'",
     "output_type": "error",
     "traceback": [
      "\u001b[0;31m---------------------------------------------------------------------------\u001b[0m",
      "\u001b[0;31mTypeError\u001b[0m                                 Traceback (most recent call last)",
      "Input \u001b[0;32mIn [42]\u001b[0m, in \u001b[0;36m<cell line: 1>\u001b[0;34m()\u001b[0m\n\u001b[0;32m----> 1\u001b[0m \u001b[43mtest5\u001b[49m\u001b[43m(\u001b[49m\u001b[38;5;241;43m3\u001b[39;49m\u001b[43m,\u001b[49m\u001b[38;5;241;43m4\u001b[39;49m\u001b[43m,\u001b[49m\u001b[38;5;241;43m5\u001b[39;49m\u001b[43m,\u001b[49m\u001b[38;5;241;43m6\u001b[39;49m\u001b[43m,\u001b[49m\u001b[38;5;241;43m7\u001b[39;49m\u001b[43m,\u001b[49m\u001b[38;5;241;43m8\u001b[39;49m\u001b[43m,\u001b[49m\u001b[38;5;241;43m9\u001b[39;49m\u001b[43m,\u001b[49m\u001b[38;5;241;43m12\u001b[39;49m\u001b[43m,\u001b[49m\u001b[38;5;241;43m34\u001b[39;49m\u001b[43m,\u001b[49m\u001b[38;5;241;43m56\u001b[39;49m\u001b[43m,\u001b[49m\u001b[38;5;241;43m90\u001b[39;49m\u001b[43m)\u001b[49m\n",
      "\u001b[0;31mTypeError\u001b[0m: test5() missing 5 required keyword-only arguments: 'a', 'b', 'c', 'd', and 'e'"
     ]
    }
   ],
   "source": [
    "test5(3,4,5,6,7,8,9,12,34,56,90)"
   ]
  },
  {
   "cell_type": "code",
   "execution_count": 43,
   "id": "294af3c3",
   "metadata": {},
   "outputs": [
    {
     "data": {
      "text/plain": [
       "((3, 4, 5, 6, 7, 8), 9, 12, 34, 56, 90)"
      ]
     },
     "execution_count": 43,
     "metadata": {},
     "output_type": "execute_result"
    }
   ],
   "source": [
    "# how to resolve this problem?\n",
    "test5(3,4,5,6,7,8,a = 9,b = 12,c = 34,d = 56,e = 90)"
   ]
  },
  {
   "cell_type": "code",
   "execution_count": 45,
   "id": "990d46db",
   "metadata": {},
   "outputs": [
    {
     "ename": "SyntaxError",
     "evalue": "invalid syntax (3134885680.py, line 2)",
     "output_type": "error",
     "traceback": [
      "\u001b[0;36m  Input \u001b[0;32mIn [45]\u001b[0;36m\u001b[0m\n\u001b[0;31m    def test6(*m,a,b,c,d,*e):\u001b[0m\n\u001b[0m                         ^\u001b[0m\n\u001b[0;31mSyntaxError\u001b[0m\u001b[0;31m:\u001b[0m invalid syntax\n"
     ]
    }
   ],
   "source": [
    "# can we pass * *? ---> no we can't what is the use of it?\n",
    "def test6(*m,a,b,c,d,*e):\n",
    "    return m,a,b,c,d,e"
   ]
  },
  {
   "cell_type": "code",
   "execution_count": 46,
   "id": "1f3ba710",
   "metadata": {},
   "outputs": [],
   "source": [
    "# how to pass dictionary?--> use ** for key value pair kind of data set\n",
    "def test7(**madhu):\n",
    "    return madhu\n"
   ]
  },
  {
   "cell_type": "code",
   "execution_count": 47,
   "id": "7ec5c6ea",
   "metadata": {},
   "outputs": [
    {
     "ename": "TypeError",
     "evalue": "test7() takes 0 positional arguments but 4 were given",
     "output_type": "error",
     "traceback": [
      "\u001b[0;31m---------------------------------------------------------------------------\u001b[0m",
      "\u001b[0;31mTypeError\u001b[0m                                 Traceback (most recent call last)",
      "Input \u001b[0;32mIn [47]\u001b[0m, in \u001b[0;36m<cell line: 1>\u001b[0;34m()\u001b[0m\n\u001b[0;32m----> 1\u001b[0m \u001b[43mtest7\u001b[49m\u001b[43m(\u001b[49m\u001b[38;5;241;43m3\u001b[39;49m\u001b[43m,\u001b[49m\u001b[38;5;241;43m4\u001b[39;49m\u001b[43m,\u001b[49m\u001b[38;5;241;43m5\u001b[39;49m\u001b[43m,\u001b[49m\u001b[38;5;241;43m6\u001b[39;49m\u001b[43m)\u001b[49m\n",
      "\u001b[0;31mTypeError\u001b[0m: test7() takes 0 positional arguments but 4 were given"
     ]
    }
   ],
   "source": [
    "test7(3,4,5,6) # it expects key value pair"
   ]
  },
  {
   "cell_type": "code",
   "execution_count": 48,
   "id": "77f47d69",
   "metadata": {},
   "outputs": [
    {
     "data": {
      "text/plain": [
       "{'a': 3, 'b': 4, 'c': 5, 'd': 6}"
      ]
     },
     "execution_count": 48,
     "metadata": {},
     "output_type": "execute_result"
    }
   ],
   "source": [
    "test7(a = 3,b = 4,c = 5,d = 6)"
   ]
  },
  {
   "cell_type": "code",
   "execution_count": 49,
   "id": "aaf1e995",
   "metadata": {},
   "outputs": [],
   "source": [
    "d = {'a': 3, 'b': 4, 'c': 5, 'd': 6}"
   ]
  },
  {
   "cell_type": "code",
   "execution_count": 51,
   "id": "a71decc1",
   "metadata": {},
   "outputs": [
    {
     "ename": "TypeError",
     "evalue": "test7() takes 0 positional arguments but 1 was given",
     "output_type": "error",
     "traceback": [
      "\u001b[0;31m---------------------------------------------------------------------------\u001b[0m",
      "\u001b[0;31mTypeError\u001b[0m                                 Traceback (most recent call last)",
      "Input \u001b[0;32mIn [51]\u001b[0m, in \u001b[0;36m<cell line: 1>\u001b[0;34m()\u001b[0m\n\u001b[0;32m----> 1\u001b[0m \u001b[43mtest7\u001b[49m\u001b[43m(\u001b[49m\u001b[43md\u001b[49m\u001b[43m)\u001b[49m\n",
      "\u001b[0;31mTypeError\u001b[0m: test7() takes 0 positional arguments but 1 was given"
     ]
    }
   ],
   "source": [
    "test7(d) # it doesn't take it bcz it expects key and value kind of data as argument"
   ]
  },
  {
   "cell_type": "code",
   "execution_count": 2,
   "id": "ef5872e8",
   "metadata": {},
   "outputs": [],
   "source": [
    "# how to use both * and ** in a function\n",
    "def test8(*m, **s):\n",
    "    return m, s"
   ]
  },
  {
   "cell_type": "code",
   "execution_count": 3,
   "id": "6dd63649",
   "metadata": {},
   "outputs": [
    {
     "data": {
      "text/plain": [
       "((345, 56, 78, 12, 34), {'a': 90, 'b': 98, 'c': 'Madhu'})"
      ]
     },
     "execution_count": 3,
     "metadata": {},
     "output_type": "execute_result"
    }
   ],
   "source": [
    "test8(345,56,78,12,34,a = 90,b = 98, c = \"Madhu\")"
   ]
  },
  {
   "cell_type": "code",
   "execution_count": 2,
   "id": "baf762d2",
   "metadata": {},
   "outputs": [],
   "source": [
    "def test9(*m):\n",
    "    n = 0\n",
    "    for i in m:\n",
    "        if type(i) == int:\n",
    "            n = n+i\n",
    "    return n"
   ]
  },
  {
   "cell_type": "code",
   "execution_count": 3,
   "id": "2b2ae4d3",
   "metadata": {},
   "outputs": [
    {
     "data": {
      "text/plain": [
       "25"
      ]
     },
     "execution_count": 3,
     "metadata": {},
     "output_type": "execute_result"
    }
   ],
   "source": [
    "test9(3,4,5,6,7,\"Madhu\")"
   ]
  },
  {
   "cell_type": "code",
   "execution_count": 6,
   "id": "cdbbc525",
   "metadata": {},
   "outputs": [],
   "source": [
    "def test10(*m):\n",
    "    n = 1\n",
    "    for i in m:\n",
    "        if type(i) == int:\n",
    "            n = n*i\n",
    "    return n"
   ]
  },
  {
   "cell_type": "code",
   "execution_count": 7,
   "id": "b2a2027f",
   "metadata": {},
   "outputs": [
    {
     "data": {
      "text/plain": [
       "2520"
      ]
     },
     "execution_count": 7,
     "metadata": {},
     "output_type": "execute_result"
    }
   ],
   "source": [
    "test10(3,4,5,6,7,\"Madhu\")"
   ]
  },
  {
   "cell_type": "code",
   "execution_count": 8,
   "id": "0f3afb50",
   "metadata": {},
   "outputs": [],
   "source": [
    "# how to create anonymus function or inline finction i.e function without name i.e called Lambda function\n",
    "# avoid using complex logic in lambda function bcz it becomes clumsy\n",
    "n = lambda a , b : a + b"
   ]
  },
  {
   "cell_type": "code",
   "execution_count": 11,
   "id": "112ff22a",
   "metadata": {},
   "outputs": [
    {
     "data": {
      "text/plain": [
       "9"
      ]
     },
     "execution_count": 11,
     "metadata": {},
     "output_type": "execute_result"
    }
   ],
   "source": [
    "n(4,5)"
   ]
  },
  {
   "cell_type": "code",
   "execution_count": 13,
   "id": "ba01a0f0",
   "metadata": {},
   "outputs": [],
   "source": [
    "def test5(a,b):\n",
    "    return a+b"
   ]
  },
  {
   "cell_type": "code",
   "execution_count": 15,
   "id": "fba4d4f9",
   "metadata": {},
   "outputs": [
    {
     "data": {
      "text/plain": [
       "9"
      ]
     },
     "execution_count": 15,
     "metadata": {},
     "output_type": "execute_result"
    }
   ],
   "source": [
    "test5(4,5)"
   ]
  },
  {
   "cell_type": "code",
   "execution_count": 22,
   "id": "1ed260f4",
   "metadata": {},
   "outputs": [],
   "source": [
    "b = lambda *madhu : madhu"
   ]
  },
  {
   "cell_type": "code",
   "execution_count": 23,
   "id": "491a453c",
   "metadata": {},
   "outputs": [
    {
     "data": {
      "text/plain": [
       "(34, 56, 78, 12, 34, 546, 9)"
      ]
     },
     "execution_count": 23,
     "metadata": {},
     "output_type": "execute_result"
    }
   ],
   "source": [
    "b(34,56,78,12,34,546,9)"
   ]
  },
  {
   "cell_type": "code",
   "execution_count": 25,
   "id": "c87ffa98",
   "metadata": {},
   "outputs": [],
   "source": [
    "# do this entire thing(Take a tuple t then create new list and append the value of tuple in list) in one line\n",
    "t = (3,4,5,6,7,8,7,7,7)\n",
    "l = []\n",
    "for i in t:\n",
    "    l.append(i)\n"
   ]
  },
  {
   "cell_type": "code",
   "execution_count": 26,
   "id": "03ccff74",
   "metadata": {},
   "outputs": [
    {
     "data": {
      "text/plain": [
       "[3, 4, 5, 6, 7, 8, 7, 7, 7]"
      ]
     },
     "execution_count": 26,
     "metadata": {},
     "output_type": "execute_result"
    }
   ],
   "source": [
    "l"
   ]
  },
  {
   "cell_type": "code",
   "execution_count": 29,
   "id": "ca252765",
   "metadata": {},
   "outputs": [
    {
     "data": {
      "text/plain": [
       "[3, 4, 5, 6, 7, 8, 7, 7, 7]"
      ]
     },
     "execution_count": 29,
     "metadata": {},
     "output_type": "execute_result"
    }
   ],
   "source": [
    "[i for i in t] # it is called list comprehension operation we have applied list over comprehension operation "
   ]
  },
  {
   "cell_type": "code",
   "execution_count": 31,
   "id": "bea93e11",
   "metadata": {},
   "outputs": [],
   "source": [
    "s = \"madhu\""
   ]
  },
  {
   "cell_type": "code",
   "execution_count": 32,
   "id": "53c8a379",
   "metadata": {},
   "outputs": [
    {
     "data": {
      "text/plain": [
       "['m', 'a', 'd', 'h', 'u']"
      ]
     },
     "execution_count": 32,
     "metadata": {},
     "output_type": "execute_result"
    }
   ],
   "source": [
    "[i for i in s]"
   ]
  },
  {
   "cell_type": "code",
   "execution_count": 1,
   "id": "d1bd642d",
   "metadata": {},
   "outputs": [],
   "source": [
    "# generate square of no. from 1 to 10\n",
    "l = []\n",
    "for i in range(10):\n",
    "    l.append(i*i)"
   ]
  },
  {
   "cell_type": "code",
   "execution_count": 3,
   "id": "1ccb351c",
   "metadata": {},
   "outputs": [
    {
     "data": {
      "text/plain": [
       "[0, 1, 4, 9, 16, 25, 36, 49, 64, 81]"
      ]
     },
     "execution_count": 3,
     "metadata": {},
     "output_type": "execute_result"
    }
   ],
   "source": [
    "l"
   ]
  },
  {
   "cell_type": "code",
   "execution_count": 2,
   "id": "27c03867",
   "metadata": {},
   "outputs": [
    {
     "data": {
      "text/plain": [
       "[0, 1, 4, 9, 16, 25, 36, 49, 64, 81]"
      ]
     },
     "execution_count": 2,
     "metadata": {},
     "output_type": "execute_result"
    }
   ],
   "source": [
    "[i*i for i in range(10)]"
   ]
  },
  {
   "cell_type": "code",
   "execution_count": 22,
   "id": "762a7267",
   "metadata": {},
   "outputs": [],
   "source": [
    "l = lambda *x : [i**2 for i in x] # ** menas square"
   ]
  },
  {
   "cell_type": "code",
   "execution_count": 23,
   "id": "7180fda7",
   "metadata": {},
   "outputs": [
    {
     "data": {
      "text/plain": [
       "[4, 9, 16, 25, 36]"
      ]
     },
     "execution_count": 23,
     "metadata": {},
     "output_type": "execute_result"
    }
   ],
   "source": [
    "l(2,3,4,5,6)"
   ]
  },
  {
   "cell_type": "code",
   "execution_count": 24,
   "id": "9654283c",
   "metadata": {},
   "outputs": [
    {
     "name": "stdout",
     "output_type": "stream",
     "text": [
      "5\n",
      "10\n",
      "17\n",
      "26\n",
      "37\n"
     ]
    }
   ],
   "source": [
    "l = [2,3,4,5,6]\n",
    "for i in l:\n",
    "    print(i*i+1)"
   ]
  },
  {
   "cell_type": "code",
   "execution_count": 25,
   "id": "741a9450",
   "metadata": {},
   "outputs": [
    {
     "ename": "NameError",
     "evalue": "name 'test' is not defined",
     "output_type": "error",
     "traceback": [
      "\u001b[0;31m---------------------------------------------------------------------------\u001b[0m",
      "\u001b[0;31mNameError\u001b[0m                                 Traceback (most recent call last)",
      "Input \u001b[0;32mIn [25]\u001b[0m, in \u001b[0;36m<cell line: 3>\u001b[0;34m()\u001b[0m\n\u001b[1;32m      1\u001b[0m \u001b[38;5;66;03m# write a function to retrieve the no. of string we have passed in a dictionary\u001b[39;00m\n\u001b[0;32m----> 3\u001b[0m \u001b[43mtest\u001b[49m(a \u001b[38;5;241m=\u001b[39m \u001b[38;5;241m7\u001b[39m, b \u001b[38;5;241m=\u001b[39m \u001b[38;5;124m\"\u001b[39m\u001b[38;5;124mMadhu\u001b[39m\u001b[38;5;124m\"\u001b[39m, c \u001b[38;5;241m=\u001b[39m \u001b[38;5;241m345\u001b[39m, d \u001b[38;5;241m=\u001b[39m \u001b[38;5;124m\"\u001b[39m\u001b[38;5;124mMadhu\u001b[39m\u001b[38;5;124m\"\u001b[39m , l \u001b[38;5;241m=\u001b[39m [\u001b[38;5;241m2\u001b[39m,\u001b[38;5;241m3\u001b[39m,\u001b[38;5;241m4\u001b[39m,\u001b[38;5;124m\"\u001b[39m\u001b[38;5;124mmadhu\u001b[39m\u001b[38;5;124m\"\u001b[39m])\n",
      "\u001b[0;31mNameError\u001b[0m: name 'test' is not defined"
     ]
    }
   ],
   "source": [
    "# write a function to retrieve the no. of string we have passed in a dictionary\n",
    "\n",
    "test(a = 7, b = \"Madhu\", c = 345, d = \"Madhu\" , l = [2,3,4,\"madhu\"])"
   ]
  },
  {
   "cell_type": "code",
   "execution_count": 5,
   "id": "345d6dc8",
   "metadata": {},
   "outputs": [],
   "source": [
    "\n",
    "def test4(**kwargs):\n",
    "    count = 0\n",
    "    print(kwargs)\n",
    "    print(kwargs.values())\n",
    "    for v in kwargs.values():\n",
    "        if type(v) == str or type(v) == list:\n",
    "            count += 1\n",
    "    return count"
   ]
  },
  {
   "cell_type": "code",
   "execution_count": 6,
   "id": "6626d970",
   "metadata": {},
   "outputs": [
    {
     "name": "stdout",
     "output_type": "stream",
     "text": [
      "{'a': 7, 'b': 'Madhu Priya', 'c': 345, 'd': 'Madhu', 'l': [2, 3, 4, 'madhu']}\n",
      "dict_values([7, 'Madhu Priya', 345, 'Madhu', [2, 3, 4, 'madhu']])\n"
     ]
    },
    {
     "data": {
      "text/plain": [
       "3"
      ]
     },
     "execution_count": 6,
     "metadata": {},
     "output_type": "execute_result"
    }
   ],
   "source": [
    "test4(a = 7, b = \"Madhu Priya\", c = 345, d = \"Madhu\" , l = [2,3,4,\"madhu\"])"
   ]
  },
  {
   "cell_type": "code",
   "execution_count": 16,
   "id": "1b21d959",
   "metadata": {},
   "outputs": [],
   "source": [
    "# return the list of values\n",
    "l = lambda **d : [i for i in d.values()]"
   ]
  },
  {
   "cell_type": "code",
   "execution_count": 20,
   "id": "e992c42a",
   "metadata": {},
   "outputs": [
    {
     "data": {
      "text/plain": [
       "[7, 'Madhu Priya', 345, 'Madhu', [2, 3, 4, 'madhu']]"
      ]
     },
     "execution_count": 20,
     "metadata": {},
     "output_type": "execute_result"
    }
   ],
   "source": [
    "l(a = 7,b =\"Madhu Priya\", c = 345, d = \"Madhu\" , e = [2,3,4,\"madhu\"])"
   ]
  },
  {
   "cell_type": "code",
   "execution_count": 21,
   "id": "6980c607",
   "metadata": {},
   "outputs": [],
   "source": [
    "def test15(**kwargs):\n",
    "    return list(kwargs.values())"
   ]
  },
  {
   "cell_type": "code",
   "execution_count": 24,
   "id": "b50068d5",
   "metadata": {},
   "outputs": [
    {
     "data": {
      "text/plain": [
       "[7, 'Madhu', 345, 'Madhu', [2, 3, 4, 'madhu']]"
      ]
     },
     "execution_count": 24,
     "metadata": {},
     "output_type": "execute_result"
    }
   ],
   "source": [
    "test15(a = 7, b = \"Madhu\", c = 345, d = \"Madhu\" , l = [2,3,4,\"madhu\"])"
   ]
  },
  {
   "cell_type": "markdown",
   "id": "2fba2de9",
   "metadata": {},
   "source": [
    "Todays task :\n",
    "    q1 : Try to print a prime number in between 1 to 1000\n",
    "    q2 : Try to write a function which  is equivalent  to print function in python\n",
    "    q3 : Try to write a function which is a replica of list append , extend and pop function \n",
    "    q4 : Try to write a lambda function which can return a concatination of all the string that we will pass\n",
    "    q5 : Try to write a lambda function which can return list of square of all the data between 1-100 \n",
    "    q6 : Try to write a 10 Different different example of lambda function with a choice of your taks \n",
    "    q7 : Try to write a funtion whihch can perform a read operation from .txt file"
   ]
  },
  {
   "cell_type": "code",
   "execution_count": null,
   "id": "95ed04c4",
   "metadata": {},
   "outputs": [],
   "source": []
  }
 ],
 "metadata": {
  "kernelspec": {
   "display_name": "Python 3 (ipykernel)",
   "language": "python",
   "name": "python3"
  },
  "language_info": {
   "codemirror_mode": {
    "name": "ipython",
    "version": 3
   },
   "file_extension": ".py",
   "mimetype": "text/x-python",
   "name": "python",
   "nbconvert_exporter": "python",
   "pygments_lexer": "ipython3",
   "version": "3.9.12"
  }
 },
 "nbformat": 4,
 "nbformat_minor": 5
}
